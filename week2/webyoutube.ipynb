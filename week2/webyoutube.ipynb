{
 "cells": [
  {
   "cell_type": "code",
   "execution_count": 7,
   "id": "3b2b9de4-a12b-4590-96eb-aafc92db19e8",
   "metadata": {},
   "outputs": [
    {
     "name": "stdout",
     "output_type": "stream",
     "text": [
      "\u001b[2mResolved \u001b[1m164 packages\u001b[0m \u001b[2min 0.65ms\u001b[0m\u001b[0m\n",
      "\u001b[2mAudited \u001b[1m160 packages\u001b[0m \u001b[2min 1ms\u001b[0m\u001b[0m\n"
     ]
    }
   ],
   "source": [
    "!uv add openai-agents"
   ]
  },
  {
   "cell_type": "code",
   "execution_count": 4,
   "id": "ecdf08a7-0dca-4351-8b81-501cca93fdab",
   "metadata": {},
   "outputs": [
    {
     "name": "stdout",
     "output_type": "stream",
     "text": [
      "/bin/bash: line 1: openai-agents: command not found\n"
     ]
    }
   ],
   "source": [
    "!openai-agents --version"
   ]
  },
  {
   "cell_type": "code",
   "execution_count": 11,
   "id": "38146173-197f-4756-a2ea-3f638cde514c",
   "metadata": {},
   "outputs": [
    {
     "name": "stdout",
     "output_type": "stream",
     "text": [
      "\u001b[2K\u001b[2mResolved \u001b[1m164 packages\u001b[0m \u001b[2min 78ms\u001b[0m\u001b[0m                                        \u001b[0m\n",
      "\u001b[1m\u001b[33mwarning\u001b[39m\u001b[0m\u001b[1m:\u001b[0m \u001b[1m`transformers==4.57.0` is yanked (reason: \"Error in the setup causing installation issues\")\u001b[0m\n",
      "\u001b[2mAudited \u001b[1m160 packages\u001b[0m \u001b[2min 1ms\u001b[0m\u001b[0m\n"
     ]
    }
   ],
   "source": [
    "!uv remove openai"
   ]
  },
  {
   "cell_type": "code",
   "execution_count": 12,
   "id": "d5fbf42e-7bee-43f1-a719-96b33e447ac5",
   "metadata": {},
   "outputs": [
    {
     "name": "stdout",
     "output_type": "stream",
     "text": [
      "\u001b[2mResolved \u001b[1m164 packages\u001b[0m \u001b[2min 0.68ms\u001b[0m\u001b[0m\n",
      "\u001b[2mAudited \u001b[1m160 packages\u001b[0m \u001b[2min 1ms\u001b[0m\u001b[0m\n"
     ]
    }
   ],
   "source": [
    "!uv add openai-agents"
   ]
  },
  {
   "cell_type": "code",
   "execution_count": 19,
   "id": "08b9039e-da73-45e2-aca5-c343043f9db0",
   "metadata": {},
   "outputs": [],
   "source": [
    "import requests\n",
    "\n",
    "def get_page_content(url: str) -> str:\n",
    "    \"\"\"\n",
    "    Fetch the textual content of a webpage using the Jina AI Reader service.\n",
    "\n",
    "    This function prefixes the provided URL with Jina AI's reader endpoint \n",
    "    (`https://r.jina.ai/`), sends a GET request to that endpoint, and returns \n",
    "    the UTF-8 decoded content of the response.\n",
    "\n",
    "    Args:\n",
    "        url (str): The URL of the webpage to fetch.\n",
    "\n",
    "    Returns:\n",
    "        str: The decoded UTF-8 content of the requested page.\n",
    "\n",
    "    Raises:\n",
    "        requests.RequestException: If an error occurs during the HTTP request.\n",
    "    \"\"\"\n",
    "    reader_url_prefix = 'https://r.jina.ai/'\n",
    "    request_url = reader_url_prefix + url\n",
    "    response = requests.get(request_url)\n",
    "    response.raise_for_status()  # optional but recommended for robustness\n",
    "    return response.content.decode('utf-8')\n"
   ]
  },
  {
   "cell_type": "code",
   "execution_count": 18,
   "id": "bda9f5bf-c503-43ec-a508-fb16b231eca9",
   "metadata": {},
   "outputs": [
    {
     "data": {
      "text/plain": [
       "\"Title: Welcome to DataTalks.Club\\n\\nURL Source: https://datatalks.club/\\n\\nMarkdown Content:\\nWelcome to DataTalks.Club\\n\\n===============\\n\\nAI Dev Tools Zoomcamp: Learn AI-powered coding assistants and agents[Register here!](https://airtable.com/appJRFiWKHBgmEt70/shrpw7rk55Ewr1jCG)\\n\\nDataTalks.Club\\n--------------\\n\\n[Articles](https://datatalks.club/articles.html)[Slack](https://datatalks.club/slack.html)[Events](https://datatalks.club/events.html)[Podcast](https://datatalks.club/podcast.html)[Books](https://datatalks.club/books.html)[Courses](https://datatalks.club/blog/guide-to-free-online-courses-at-datatalks-club.html)\\n\\n* * *\\n\\nThe place to talk about data\\n============================\\n\\nGlobal online community of data science professionals, ML engineers, and AI practitioners\\n-----------------------------------------------------------------------------------------\\n\\nSubscribe to our weekly newsletter and join our Slack.\\n\\n We'll keep you informed about everything happening in the Club.\\n\\nEmail \\n\\n Join \\n\\n You'll get an invite within 3 minutes \\n\\n![Image 4: Data science discussions and talks](https://datatalks.club/images/landing/talks.jpg)\\n\\n#### Talk about data, machine\\n\\n learning, and engineering\\n\\n![Image 5: Data science events and courses](https://datatalks.club/images/landing/events.jpg)\\n\\n#### Attend weekly events\\n\\n and learn from free courses\\n\\n![Image 6: Career guidance and mentorship](https://datatalks.club/images/landing/career.jpg)\\n\\n#### Ask career questions and\\n\\n discuss career options\\n\\n* * *\\n\\n#### Upcoming events\\n\\n*   [How to Build and Evaluate AI systems in the Age of LLMs](https://luma.com/w65omumd) on 21 Oct 2025 by [Hugo Bowne-Anderson](https://datatalks.club/people/hugobowneanderson.html)\\n*   [From Black-Box Systems to Augmented Decision-Making](https://luma.com/gqmsx9zd) on 28 Oct 2025 by [Anusha Akkina](https://datatalks.club/people/anushaakkina.html)\\n*   [Deep Learning with PyTorch](https://luma.com/vc02zy6a) on 28 Oct 2025 by [Alexey Grigorev](https://datatalks.club/people/alexeygrigorev.html)\\n*   [Practical guide: Fine-tuning Qwen3 with LoRA](https://luma.com/n41kqkfh) on 30 Oct 2025 by [Ivan Potapov](https://datatalks.club/people/ivanpotapov.html)\\n*   [AI Dev Tools Zoomcamp 2025 Pre-Course Live Q&A](https://luma.com/6p356li5) on 04 Nov 2025 by [Alexey Grigorev](https://datatalks.club/people/alexeygrigorev.html)\\n*   [Reinventing a Career in Tech](https://luma.com/ifmqg2xb) on 17 Nov 2025 by [Xia He-Bleinagel](https://datatalks.club/people/xiahebleinagel.html)\\n*   [AI Dev Tools Zoomcamp 2025 Course Launch](https://luma.com/80ve8r1u) on 18 Nov 2025 by [Alexey Grigorev](https://datatalks.club/people/alexeygrigorev.html)\\n*   [The Future of AI Agents](https://luma.com/0s0dcpdl) on 10 Feb 2026 by [Aditya Gautam](https://datatalks.club/people/adityagautam.html)\\n\\nCheck [events](https://datatalks.club/events.html) for all past events. You can also subscribe to [our Google calendar](https://calendar.google.com/calendar/?cid=ZjhxaWRqbnEwamhzY3A4ODA5azFlZ2hzNjBAZ3JvdXAuY2FsZW5kYXIuZ29vZ2xlLmNvbQ) to get notified about all our events.\\n\\n#### Latest podcast episodes\\n\\n*   [Lessons from Applied AI: Tesla, Waymo, and Beyond](https://datatalks.club/podcast/s22e02-lessons-from-applied-ai-tesla-waymo-and-beyond.html) with [Aishwarya Jadhav](https://datatalks.club/people/aishwaryajadhav.html)\\n*   [Building reliable AI products in the era of Gen AI and Agents](https://datatalks.club/podcast/s22e01-building-reliable-ai-products-in-era-of-gen-ai-and-agents.html) with [Ranjitha Kulkarni](https://datatalks.club/people/ranjithakulkarni.html)\\n*   [From Theme Parks to Tesla: Building Data Products That Work](https://datatalks.club/podcast/s21e09-from-theme-parks-to-tesla-building-data-products-that-work.html) with [Abouzar Abbaspour](https://datatalks.club/people/abouzarabbaspour.html)\\n*   [From Semiconductors to Machine Learning: A Career in Data and Teaching](https://datatalks.club/podcast/s21e08-from-semiconductors-to-machine-learning-career-in-data-and-teaching.html) with [Dashel Ruiz Perez](https://datatalks.club/people/dashelruizperez.html)\\n*   [Lessons from Two Decades of AI](https://datatalks.club/podcast/s21e07-lessons-from-two-decades-of-ai.html) with [Micheal Lanham](https://datatalks.club/people/micheallanham.html)\\n\\nCheck the [podcast](https://datatalks.club/podcast.html) page for all past podcast episodes.\\n\\n#### Our Sponsors\\n\\n[![Image 7: dltHub](https://datatalks.club/images/partners/dlthub.png)](https://dlthub.com/)\\n\\n[![Image 8: Astronomer](https://datatalks.club/images/partners/astronomer.png)](https://www.astronomer.io/)\\n\\n[![Image 9: Arize AI](https://datatalks.club/images/partners/arize.png)](https://arize.com/model-monitoring/)\\n\\n#### Book of the week\\n\\nCheck the [book of the week](https://datatalks.club/books.html) page for more books!\\n\\n#### Latest articles\\n\\n*   [AI Dev Tools Zoomcamp 2025: Free Course to Master Coding Assistants, Agents, and Automation](https://datatalks.club/blog/ai-dev-tools-zoomcamp-2025-free-course-to-master-coding-assistants-agents-and-automation.html) by [Valeriia Kuka](https://datatalks.club/people/valeriiakuka.html)\\n*   [20+ Best Data Science Slack Communities to Join in 2025](https://datatalks.club/blog/slack-communities.html) by [Alexey Grigorev](https://datatalks.club/people/alexeygrigorev.html), [Valeriia Kuka](https://datatalks.club/people/valeriiakuka.html)\\n*   [A Guide to Free Online Courses at DataTalks.Club](https://datatalks.club/blog/guide-to-free-online-courses-at-datatalks-club.html) by [Valeriia Kuka](https://datatalks.club/people/valeriiakuka.html)\\n*   [Data Engineering Zoomcamp 2026: Free Data Engineering Course and Certification](https://datatalks.club/blog/data-engineering-zoomcamp.html) by [Valeriia Kuka](https://datatalks.club/people/valeriiakuka.html)\\n*   [ML Zoomcamp 2025: Free Machine Learning Engineering Course and Certification](https://datatalks.club/blog/machine-learning-zoomcamp.html) by [Valeriia Kuka](https://datatalks.club/people/valeriiakuka.html)\\n\\n* * *\\n\\n DataTalks.Club. Hosted on [GitHub Pages](https://github.com/DataTalksClub/datatalksclub.github.io). We use cookies.\\n\""
      ]
     },
     "execution_count": 18,
     "metadata": {},
     "output_type": "execute_result"
    }
   ],
   "source": [
    "get_page_content('https://datatalks.club')"
   ]
  },
  {
   "cell_type": "code",
   "execution_count": 21,
   "id": "7f84c4cb-a235-4b56-bf50-88ba2d7c06d8",
   "metadata": {},
   "outputs": [],
   "source": [
    "from agents import Agent, function_tool"
   ]
  },
  {
   "cell_type": "code",
   "execution_count": 25,
   "id": "91c14427-109b-4984-94c0-3432b23ea1ea",
   "metadata": {},
   "outputs": [],
   "source": [
    "assistant_instruction=\"\"\"\n",
    "You're a helpful assistant that helps answer user questions\n",
    "\"\"\"\n",
    "\n",
    "assistant = Agent(\n",
    "    name='assistant',\n",
    "    tools=[function_tool(get_page_content)],\n",
    "    instructions = assistant_instruction,\n",
    "    model='gpt-4o-mini'\n",
    ")"
   ]
  },
  {
   "cell_type": "code",
   "execution_count": 26,
   "id": "d4fff113-b11d-44ff-b1d5-94c92b4557d6",
   "metadata": {},
   "outputs": [],
   "source": [
    "from agents import Runner\n",
    "runner = Runner()"
   ]
  },
  {
   "cell_type": "code",
   "execution_count": 27,
   "id": "a39af737-3431-42ff-a69a-1a94ff6e9b06",
   "metadata": {},
   "outputs": [],
   "source": [
    "user_prompt = \"Summarize the content of https://openai.github.io/openai-agents-python/\"\n",
    "result = await runner.run(assistant, input=user_prompt)"
   ]
  },
  {
   "cell_type": "code",
   "execution_count": 31,
   "id": "6baa974f-7cd1-4481-b534-6ae2f35bb10a",
   "metadata": {},
   "outputs": [
    {
     "data": {
      "text/plain": [
       "'The **OpenAI Agents SDK** is designed to facilitate the creation of agentic AI applications using a simple and effective Python package. Here\\'s a summary of its key components:\\n\\n### Overview\\n- **Purpose**: The SDK aims to build agent-oriented AI applications, enhancing usability with minimal abstractions. It serves as a production-ready evolution of prior frameworks, specifically designed to enable developers to work effectively with Large Language Models (LLMs).\\n- **Key Features**:\\n  - **Agents**: LLMs equipped with specific instructions and tools.\\n  - **Handoffs**: Mechanism for agents to delegate tasks to each other.\\n  - **Guardrails**: Validations for agent inputs and outputs.\\n  - **Sessions**: Automatic management of conversation histories across agent interactions.\\n\\n### Advantages\\nThe SDK is designed with two main principles:\\n1. **Simplicity**: Enough features to be useful yet straightforward enough to learn quickly.\\n2. **Customizability**: Works well out-of-the-box but allows for customization.\\n\\n### Installation\\nTo install the SDK, use:\\n```bash\\npip install openai-agents\\n```\\n\\n### Quick Example\\nA simple code snippet demonstrates how to create and run an agent:\\n```python\\nfrom agents import Agent, Runner\\n\\nagent = Agent(name=\"Assistant\", instructions=\"You are a helpful assistant\")\\nresult = Runner.run_sync(agent, \"Write a haiku about recursion in programming.\")\\nprint(result.final_output)\\n```\\n\\n### Conclusion\\nThe OpenAI Agents SDK provides essential tools for developing advanced applications quickly without a steep learning curve, making it ideal for developers looking to utilize AI effectively. For more details and comprehensive documentation, you can visit the [OpenAI Agents SDK](https://github.com/openai/openai-agents-python) page.'"
      ]
     },
     "execution_count": 31,
     "metadata": {},
     "output_type": "execute_result"
    }
   ],
   "source": [
    "result.new_items[-1].raw_item.content[0].text"
   ]
  },
  {
   "cell_type": "code",
   "execution_count": 32,
   "id": "2af14309-c263-431c-92a5-286c0d05ed13",
   "metadata": {},
   "outputs": [],
   "source": [
    "from toyaikit.chat import IPythonChatInterface\n",
    "from toyaikit.chat.runners import OpenAIAgentsSDKRunner\n",
    "\n",
    "chat_interface = IPythonChatInterface()\n",
    "runner = OpenAIAgentsSDKRunner(\n",
    "    chat_interface = chat_interface,\n",
    "    agent = assistant\n",
    ")"
   ]
  },
  {
   "cell_type": "code",
   "execution_count": 34,
   "id": "a29046a0-ad5d-42cc-94f0-cf40294442eb",
   "metadata": {},
   "outputs": [
    {
     "name": "stdin",
     "output_type": "stream",
     "text": [
      "You: Summarize the content of https://www.stromnetz.berlin/\n"
     ]
    },
    {
     "data": {
      "text/html": [
       "\n",
       "            <details>\n",
       "            <summary>Function call: <tt>get_page_content({\"url\":\"https://www.stromnetz.berlin/\"})</tt></summary>\n",
       "            <div>\n",
       "                <b>Call</b>\n",
       "                <pre>{\"url\":\"https://www.stromnetz.berlin/\"}</pre>\n",
       "            </div>\n",
       "            <div>\n",
       "                <b>Output</b>\n",
       "                <pre>Title: Stromnetz Berlin | Berlins zuverlässiger Netzbetreiber\n",
       "\n",
       "URL Source: https://www.stromnetz.berlin/\n",
       "\n",
       "Markdown Content:\n",
       "Stromnetz Berlin | Berlins zuverlässiger Netzbetreiber\n",
       "\n",
       "===============\n",
       "[Zum Hauptinhalt springen](https://www.stromnetz.berlin/#_main)[Zur Navigation springen](https://www.stromnetz.berlin/#_mainnav)[Zur Suche springen](https://www.stromnetz.berlin/#)\n",
       "\n",
       "Geöffnen Shclisen\n",
       "\n",
       "[![Image 1: Logotype](https://www.stromnetz.berlin/files/ui/images/logo/logotype.svg)](https://www.stromnetz.berlin/)\n",
       "\n",
       "*   Anschließen \n",
       "    *   [Anschließen](https://www.stromnetz.berlin/anschliessen/)\n",
       "    *   [Anschluss Niederspannung](https://www.stromnetz.berlin/anschliessen/anschluss-niederspannung/)\n",
       "        *   [Inspektion Netzanschluss](https://www.stromnetz.berlin/anschliessen/anschluss-niederspannung/inspektion-netzanschluss/)\n",
       "\n",
       "    *   [Anschluss Mittel- und Hochspannung](https://www.stromnetz.berlin/anschliessen/anschluss-mittel-hochspannung/)\n",
       "        *   [Anlagensicherheit](https://www.stromnetz.berlin/anschliessen/anschluss-mittel-hochspannung/anlagensicherheit/)\n",
       "        *   [Repartierungsverfahren](https://www.stromnetz.berlin/anschliessen/anschluss-mittel-hochspannung/repartierung/)\n",
       "\n",
       "    *   [Erzeugungsanlagen und Speicher](https://www.stromnetz.berlin/anschliessen/erzeugungsanlagen-und-speicher/)\n",
       "    *   [Elektromobilität](https://www.stromnetz.berlin/anschliessen/elektromobilitat/)\n",
       "        *   [Ladeinfrastruktur für Elektromobilität](https://www.stromnetz.berlin/anschliessen/elektromobilitat/ladeinfrastruktur-elektromobilitaet/)\n",
       "        *   [E-Mobilität und Stromnetz](https://www.stromnetz.berlin/anschliessen/elektromobilitat/e-mobilitaet-und-stromnetz/)\n",
       "        *   [Fragen und Antworten Elektromobilität](https://www.stromnetz.berlin/anschliessen/elektromobilitat/fragen-und-antworten-elektromobilitat/)\n",
       "        *   [Alles geregelt: Dokumente & Rechtliches](https://www.stromnetz.berlin/anschliessen/elektromobilitat/alles-geregelt-dokumente-und-rechtliches/)\n",
       "\n",
       "    *   [Leitungsauskunft](https://www.stromnetz.berlin/anschliessen/leitungsauskunft/)\n",
       "\n",
       "*   Einspeisen \n",
       "    *   [Einspeisen](https://www.stromnetz.berlin/einspeisen/)\n",
       "    *   [Erneuerbare Energien](https://www.stromnetz.berlin/einspeisen/erneuerbare-energien/)\n",
       "    *   [Sonne vom Balkon](https://www.stromnetz.berlin/einspeisen/sonne-vom-balkon/)\n",
       "    *   [Erzeugungsanlagen](https://www.stromnetz.berlin/einspeisen/erzeugungsanlagen-einspeisung/)\n",
       "    *   [Kraft-Wärme-Kopplung](https://www.stromnetz.berlin/einspeisen/kraft-warme-kopplung/)\n",
       "    *   [Einspeisemanagement](https://www.stromnetz.berlin/einspeisen/einspeisemanagement/)\n",
       "    *   [Redispatch](https://www.stromnetz.berlin/einspeisen/redispatch/)\n",
       "\n",
       "*   Zähler \n",
       "    *   [Zähler](https://www.stromnetz.berlin/zahler/)\n",
       "    *   [Kundeninformationen und Hilfe](https://www.stromnetz.berlin/zahler/kundeninformationen/)\n",
       "        *   [Prüfung von Zählern](https://www.stromnetz.berlin/zahler/kundeninformationen/prufung-von-zahlern/)\n",
       "        *   [Beschwerden und Schlichtung](https://www.stromnetz.berlin/zahler/kundeninformationen/beschwerden-und-schlichtung/)\n",
       "        *   [Zählerreklamation](https://www.stromnetz.berlin/zahler/kundeninformationen/zahlerreklamation/)\n",
       "        *   [Sperrung / Unterbrechung](https://www.stromnetz.berlin/zahler/kundeninformationen/sperrung--unterbrechung/)\n",
       "        *   [Eichung](https://www.stromnetz.berlin/zahler/kundeninformationen/eichung-von-zaehlern/)\n",
       "        *   [Schadenersatz](https://www.stromnetz.berlin/zahler/kundeninformationen/schadenersatz/)\n",
       "        *   [Kontaktaufnahme](https://www.stromnetz.berlin/zahler/kundeninformationen/kontaktaufnahme/)\n",
       "\n",
       "    *   [Zählerablesung](https://www.stromnetz.berlin/zahler/zahlerablesung/)\n",
       "    *   [Montage, Demontage und Tausch von Zählern](https://www.stromnetz.berlin/zahler/montage-demontage-und-tausch-von-zahlern/)\n",
       "    *   [Digitale Zähler](https://www.stromnetz.berlin/zahler/digitale-zahler/)\n",
       "        *   [Moderne Messeinrichtung](https://www.stromnetz.berlin/zahler/digitale-zahler/moderne-messeinrichtung/)\n",
       "        *   [Intelligentes Messsystem](https://www.stromnetz.berlin/zahler/digitale-zahler/intelligentes-messsystem/)\n",
       "        *   [Informationen grundzuständiger Messstellenbetreiber](https://www.stromnetz.berlin/zahler/digitale-zahler/informationen-grundzustandiger-messstellenbetreiber/)\n",
       "\n",
       "    *   [Anleitungen für Zähler](https://www.stromnetz.berlin/zahler/anleitungen-fur-zahler/)\n",
       "    *   [Einzug, Auszug, Umzug und Lieferantenwechsel](https://www.stromnetz.berlin/zahler/einzug-auszug-und-lieferantenwechsel/)\n",
       "\n",
       "*   Netz nutzen \n",
       "    *   [Netz nutzen](https://www.stromnetz.berlin/netz-nutzen/)\n",
       "    *   [Netznutzer](https://www.stromnetz.berlin/netz-nutzen/netznutzer/)\n",
       "    *   [Entgelte](https://www.stromnetz.berlin/netz-nutzen/entgelte/)\n",
       "    *   [Steuerbare Verbrauchseinrichtungen](https://www.stromnetz.berlin/netz-nutzen/steuerbare-verbrauchseinrichtungen/)\n",
       "    *   [Grundzuständiger Messstellenbetreiber](https://www.stromnetz.berlin/netz-nutzen/grundzustandiger-messstellenbetreiber/)\n",
       "    *   [Messstellenbetrieb](https://www.stromnetz.berlin/netz-nutzen/messstellenbetrieb/)\n",
       "    *   [Ausschreibung Netzverlustenergie](https://www.stromnetz.berlin/netz-nutzen/ausschreibung-netzverlustenergie/)\n",
       "        *   [Ausschreibung Kurzfristkomponente 2026](https://www.stromnetz.berlin/netz-nutzen/ausschreibung-netzverlustenergie/ausschreibung-kurzfristkomponente-2026/)\n",
       "        *   [Veröffentlichung Ergebnisse](https://www.stromnetz.berlin/netz-nutzen/ausschreibung-netzverlustenergie/veroeffentlichung-ergebnisse/)\n",
       "        *   [Archiv Ausschreibungsunterlagen](https://www.stromnetz.berlin/netz-nutzen/ausschreibung-netzverlustenergie/archiv-ausschreibungsunterlagen/)\n",
       "\n",
       "    *   [Ausschreibung Blindleistung](https://www.stromnetz.berlin/netz-nutzen/ausschreibung-blindleistung/)\n",
       "    *   [Meldung Selbst-/Drittverbrauch](https://www.stromnetz.berlin/netz-nutzen/meldung-selbstverbrauch-drittverbrauch/)\n",
       "\n",
       "*   Beleuchtung\n",
       "    *   [Beleuchtung](https://www.stromnetz.berlin/beleuchtung/)\n",
       "    *   [Betrieb Beleuchtungsanlagen](https://www.stromnetz.berlin/beleuchtung/betrieb-beleuchtungsanlagen/)\n",
       "    *   [Projektierung und Bau Beleuchtungsanlagen](https://www.stromnetz.berlin/beleuchtung/projektierung-und-bau-beleuchtungsanlagen/)\n",
       "    *   [Referenzen Beleuchtungsprojekte](https://www.stromnetz.berlin/beleuchtung/referenzen-beleuchtungsprojekte/)\n",
       "\n",
       "*   Karriere \n",
       "    *   [Karriere](https://www.stromnetz.berlin/karriere/)\n",
       "    *   [Jobs](https://www.stromnetz.berlin/karriere/jobs/)\n",
       "    *   [Ausbildung und duales Studium](https://www.stromnetz.berlin/karriere/ausbildung-und-duales-studium/)\n",
       "    *   [Student*innen](https://www.stromnetz.berlin/karriere/student_innen/)\n",
       "    *   [Arbeiten bei uns](https://www.stromnetz.berlin/karriere/arbeiten-bei-uns/)\n",
       "\n",
       "*   Über uns \n",
       "    *   [Über uns](https://www.stromnetz.berlin/uber-uns/)\n",
       "    *   [Management](https://www.stromnetz.berlin/uber-uns/management/)\n",
       "    *   [Presse und News](https://www.stromnetz.berlin/uber-uns/presse/)\n",
       "    *   [Zahlen, Daten, Fakten](https://www.stromnetz.berlin/uber-uns/zahlen-daten-fakten/)\n",
       "    *   [Veröffentlichungspflichten](https://www.stromnetz.berlin/uber-uns/veroffentlichungspflichten/)\n",
       "        *   [Energiewirtschaftsgesetz (EnWG)](https://www.stromnetz.berlin/uber-uns/veroffentlichungspflichten/energiewirtschaftsgesetz-enwg/)\n",
       "        *   [Stromnetzentgeltverordnung (StromNEV)](https://www.stromnetz.berlin/uber-uns/veroffentlichungspflichten/stromnetzentgeltverordnung-stromnev/)\n",
       "        *   [Kraftwerksnetzanschlussverordnung (KraftNAV)](https://www.stromnetz.berlin/uber-uns/veroffentlichungspflichten/kraftwerksnetzanschlussverordnung-kraftnav/)\n",
       "        *   [Anreizregulierungsverordnung (ARegV)](https://www.stromnetz.berlin/uber-uns/veroffentlichungspflichten/anreizregulierungsverordnung-aregv/)\n",
       "        *   [Lieferkettensorgfaltspflichtengesetz (LkSG)](https://www.stromnetz.berlin/uber-uns/veroffentlichungspflichten/lieferkettensorgfaltspflichtengesetz/)\n",
       "        *   [Verordnung über Integrität und Transparenz des Energiegroßhandelsmarkts (REMIT)](https://www.stromnetz.berlin/uber-uns/veroffentlichungspflichten/remit/)\n",
       "        *   [Barrierefreiheitserklärung der Stromnetz Berlin GmbH](https://www.stromnetz.berlin/uber-uns/veroffentlichungspflichten/barrierefreiheitserklarung-der-stromnetz-berlin-gmbh/)\n",
       "\n",
       "    *   [Geschäftsberichte](https://www.stromnetz.berlin/uber-uns/geschaftsberichte/)\n",
       "    *   [Nachhaltigkeit](https://www.stromnetz.berlin/uber-uns/nachhaltigkeit/)\n",
       "        *   [Strategie und Management](https://www.stromnetz.berlin/uber-uns/nachhaltigkeit/strategie-und-nachhaltigkeitsmanagement/)\n",
       "        *   [Energiewende und Kundenorientierung](https://www.stromnetz.berlin/uber-uns/nachhaltigkeit/energiewende-und-kundenorientierung/)\n",
       "        *   [Umwelt- und Klimaschutz](https://www.stromnetz.berlin/uber-uns/nachhaltigkeit/umwelt-und-klimaschutz/)\n",
       "        *   [Zusammenarbeit](https://www.stromnetz.berlin/uber-uns/nachhaltigkeit/zusammenarbeit/)\n",
       "        *   [Verantwortung](https://www.stromnetz.berlin/uber-uns/nachhaltigkeit/verantwortung/)\n",
       "\n",
       "    *   [Zertifizierungen](https://www.stromnetz.berlin/uber-uns/zertifizierungen/)\n",
       "    *   [Compliance](https://www.stromnetz.berlin/uber-uns/compliance/)\n",
       "    *   [Unsere Geschichte](https://www.stromnetz.berlin/uber-uns/unsere-geschichte/)\n",
       "\n",
       "*   Für Berlin \n",
       "    *   [Für Berlin](https://www.stromnetz.berlin/fur-berlin/)\n",
       "    *   [Stromkastenstyling](https://www.stromnetz.berlin/fur-berlin/stromkastenstyling/)\n",
       "        *   [Stromkastenstyling 2025](https://www.stromnetz.berlin/fur-berlin/stromkastenstyling/stromkastenstyling-2025/)\n",
       "        *   [Stromkastenstyling 2024](https://www.stromnetz.berlin/fur-berlin/stromkastenstyling/stromkastenstyling-2024/)\n",
       "        *   [Stromkastenstyling 2023](https://www.stromnetz.berlin/fur-berlin/stromkastenstyling/stromkastenstyling-2023/)\n",
       "        *   [Stromkastenstyling 2022](https://www.stromnetz.berlin/fur-berlin/stromkastenstyling/stromkastenstyling-2022/)\n",
       "        *   [Stromkastenstyling 2021](https://www.stromnetz.berlin/fur-berlin/stromkastenstyling/stromkastenstyling-2021/)\n",
       "\n",
       "    *   [Bürger*innenrat](https://www.stromnetz.berlin/fur-berlin/buerger-innenrat/)\n",
       "        *   [Bewerbung zum Bürger*innenrat](https://www.stromnetz.berlin/fur-berlin/buerger-innenrat/bewerbung-zum-buerger_innenrat/)\n",
       "\n",
       "    *   [Bürger*innendialog](https://www.stromnetz.berlin/fur-berlin/buerger_innendialog/)\n",
       "    *   [Vielfalt für Berlin](https://www.stromnetz.berlin/fur-berlin/vielfalt-fur-berlin/)\n",
       "        *   [Queer durch Berlin](https://www.stromnetz.berlin/fur-berlin/vielfalt-fur-berlin/queer-durch-berlin/)\n",
       "        *   [Bündnis gegen Homophobie](https://www.stromnetz.berlin/fur-berlin/vielfalt-fur-berlin/bundnis-gegen-homophobie/)\n",
       "\n",
       "    *   [Smart City](https://www.stromnetz.berlin/fur-berlin/smart-city/)\n",
       "    *   [Umweltschutz](https://www.stromnetz.berlin/fur-berlin/umweltschutz/)\n",
       "        *   [Bienen im Einsatz](https://www.stromnetz.berlin/fur-berlin/umweltschutz/bienen-im-einsatz/)\n",
       "\n",
       "*   Partner\n",
       "    *   [Partner](https://www.stromnetz.berlin/partner/)\n",
       "    *   [Lieferanten und Vertragspartner](https://www.stromnetz.berlin/partner/lieferanten-und-vertragspartner/)\n",
       "        *   [Lieferantenqualifizierung](https://www.stromnetz.berlin/partner/lieferanten-und-vertragspartner/lieferantenqualifizierung/)\n",
       "        *   [Lieferantenanmeldung](https://www.stromnetz.berlin/partner/lieferanten-und-vertragspartner/lieferantenanmeldung/)\n",
       "        *   [Nachhaltigkeit und Compliance](https://www.stromnetz.berlin/partner/lieferanten-und-vertragspartner/nachhaltigkeit-und-compliance/)\n",
       "\n",
       "    *   [Installateure](https://www.stromnetz.berlin/partner/installateure/)\n",
       "        *   [Zählerbeantragung / -montage](https://www.stromnetz.berlin/partner/installateure/zahlerbeantragung-montage/)\n",
       "        *   [Installateurverzeichnis](https://www.stromnetz.berlin/partner/installateure/installateurverzeichnis/)\n",
       "        *   [Installateur-Unterlagen](https://www.stromnetz.berlin/partner/installateure/installateur-unterlagen/)\n",
       "        *   [Zähler-Packstation](https://www.stromnetz.berlin/partner/installateure/zaehler-packstation/)\n",
       "\n",
       "    *   [Kooperationen](https://www.stromnetz.berlin/partner/kooperationen/)\n",
       "\n",
       "*   Technik & Innovation \n",
       "    *   [Technik & Innovation](https://www.stromnetz.berlin/technik-und-innovationen/)\n",
       "    *   [Störungsmanagement](https://www.stromnetz.berlin/technik-und-innovationen/storungsmanagement/)\n",
       "    *   [Störungsmanagement öffentliche Beleuchtung](https://www.stromnetz.berlin/technik-und-innovationen/stoerungsmanagement-beleuchtung/)\n",
       "    *   [Aufbau und Funktionsweise Stromnetz](https://www.stromnetz.berlin/technik-und-innovationen/aufbau-und-funktionsweise-stromnetz/)\n",
       "    *   [Investitionen](https://www.stromnetz.berlin/technik-und-innovationen/investitionen/)\n",
       "        *   [Baumaßnahmen](https://www.stromnetz.berlin/technik-und-innovationen/investitionen/baumassnahmen/)\n",
       "\n",
       "    *   [Unsere Online-Portale](https://www.stromnetz.berlin/technik-und-innovationen/unsere-online-portale/)\n",
       "    *   [Open Data](https://www.stromnetz.berlin/technik-und-innovationen/open-data/)\n",
       "\n",
       "[de](https://www.stromnetz.berlin/)[en](https://www.stromnetz.berlin/en/)\n",
       "\n",
       "Suche\n",
       "\n",
       "### Unser Service\n",
       "\n",
       "**Unsere Online-Dienste**\n",
       "\n",
       "*   [Zählerstand erfassen](https://mein.stromnetz.berlin/web/zaehlerstand)\n",
       "*   [Online Kundenanfrage](https://services.stromnetz.berlin/kontaktanfrage)\n",
       "*   [24h-Störungsmanagement](https://www.stromnetz.berlin/technik-und-innovationen/storungsmanagement/)\n",
       "*   [Kundenportal (Anschluss/Einspeiser)](https://kundenportal.stromnetz.berlin/#/welcome)\n",
       "*   [Kundeninformationen](https://www.stromnetz.berlin/zahler/kundeninformationen)\n",
       "\n",
       "**Kundenanfragen**030 49202 0294\n",
       "\n",
       "Montag - Freitag, 8 - 18 Uhr\n",
       "\n",
       "![Image 2: Modernes Gebäude mit weitem Dach und Stützen und davor eine Skulptur unter leicht bewölktem Himmel.](https://www.stromnetz.berlin/images/3087e634-d1fa-439c-8046-af3776f564d5/dt/Skyline-Berlin_AdobeStock_161544948_3840x2160.jpg)\n",
       "\n",
       "Strom für\n",
       "\n",
       "**Sie**und**Berlin**zu jeder Zeit\n",
       "============================================\n",
       "\n",
       "[![Image 3](https://www.stromnetz.berlin/images/4ce61fa4-ceed-49f7-84ea-cfd185780ae2/sp-l/3840x2160-Zaehlertafel.jpg) ### Zählerstand mitteilen Melden Sie Ihren Zählerstand für die jährliche Ablesung oder bei einem Ein-/Auszug oder Lieferantenwechsel über unser Kundenserviceportal.](https://mein.stromnetz.berlin/web/zaehlerstand)[![Image 4](https://www.stromnetz.berlin/images/375d5150-22b6-434c-8a28-d65db390a201/sp-l/Blackout_AdobeStock_676897591_2160x2160.jpg) ### Störungsmanagement 24h-Störungsmanagement für Berlin – wenn der Strom mal ausfällt haben wir Informationen zu der Störung und geben Hilfestellung](https://www.stromnetz.berlin/technik-und-innovationen/storungsmanagement/)[![Image 5](https://www.stromnetz.berlin/images/561d065e-8870-4547-bdb0-8bf2371e17cd/sp-l/800x420-Zaehlerablesung.jpg) ### Zählerablesung Informationen zur Zählerablesung - durch einen Dienstleister von Stromnetz Berlin oder durch Sie selbst.](https://www.stromnetz.berlin/zahler/zahlerablesung/)\n",
       "\n",
       "[![Image 6](https://www.stromnetz.berlin/images/a9cd740c-5c94-4931-84c9-29eb5f4911fe/sp-l/3840x2160-Kundengespraech.jpg) ### Kundeninformationen und Hilfe Informationen zu aktuellen und wichtigen Themen für Kund*innen, einer möglichen Kontaktaufnahme oder Beschwerden](https://www.stromnetz.berlin/zahler/kundeninformationen/)[![Image 7](https://www.stromnetz.berlin/images/53b27c5d-f0c2-4019-8799-376a074de953/sp-l/Buerger-innenrat-Kampagne_Motiv-2025.jpg) ### Bewerbung zum Bürger*innenrat Bewerben Sie sich für unseren Bürger*innenrat für die Legislaturperiode 2026-2029.](https://www.stromnetz.berlin/fur-berlin/buerger-innenrat/bewerbung-zum-buerger_innenrat/)[![Image 8](https://www.stromnetz.berlin/images/763e5d18-7f26-41ef-b3b0-3e9ee92f294a/sp-l/GB-Za-hlermontage-024.jpg) ### Montage, Demontage und Tausch von Zählern Informationen zum Einbau, Tausch und Ausbau von Zählern, modernen Messeinrichtungen und intelligenten Messsystemen](https://www.stromnetz.berlin/zahler/montage-demontage-und-tausch-von-zahlern/)\n",
       "\n",
       "Pressemitteilungen\n",
       "------------------\n",
       "\n",
       "[News 14.10.2025 Berliner Haushalte werden durch Bundeszuschüsse an die Übertragungsnetze entlastet](https://www.stromnetz.berlin/uber-uns/presse/pressemitteilungen-2025/berliner-haushalte-werden-durch-bundeszuschusse-an-die-ubertragungsnetze-entlastet/)[News 13.10.2025 Grün leuchtende Straßenlaternen nach kurzer Beleuchtungs­-Störung](https://www.stromnetz.berlin/uber-uns/presse/pressemitteilungen-2025/grun-leuchtende-strasenlaternen-nach-kurzer-beleuchtungs-storung/)[News 23.09.2025 Investition in das Berliner Stromnetz: BEN und Europäische Investitionsbank unterzeichnen Kreditvertrag](https://www.stromnetz.berlin/uber-uns/presse/pressemitteilungen-2025/investition-in-das-berliner-stromnetz-ben-und-europaische-investitionsbank-unterzeichnen-kreditvertrag/)\n",
       "\n",
       "[Alle Pressemitteilungen](https://www.stromnetz.berlin/uber-uns/presse/)\n",
       "\n",
       "Neuigkeiten\n",
       "-----------\n",
       "\n",
       "*   [Information 16.10.2025 Ergebnis der 4. Ausschreibung Netzverlustenergie für das Jahr 2027 veröffentlicht.](https://www.stromnetz.berlin/netz-nutzen/ausschreibung-netzverlustenergie/veroeffentlichung-ergebnisse/)\n",
       "\n",
       "Unsere Vision\n",
       "-------------\n",
       "\n",
       "Aus Liebe zu Berlin:\n",
       "\n",
       "das modernste Stromnetz für die klimaneutrale Hauptstadt\n",
       "\n",
       "Kontakt\n",
       "-------\n",
       "\n",
       "**Adresse:**\n",
       "\n",
       "Stromnetz Berlin GmbH\n",
       "\n",
       "10871 Berlin\n",
       "\n",
       "**Telefon:**\n",
       "\n",
       "030-492 02-0294\n",
       "\n",
       "Mo-Fr, 8 - 18 Uhr\n",
       "\n",
       "**E-Mail:**\n",
       "\n",
       "[info@stromnetz-berlin.de](mailto:info@stromnetz-berlin.de)\n",
       "\n",
       "Wichtige Links\n",
       "--------------\n",
       "\n",
       "[Presse](https://www.stromnetz.berlin/uber-uns/presse/ \"Link zum Pressebereich\")\n",
       "\n",
       "[Installateur­*innen](https://www.stromnetz.berlin/partner/installateure/ \"Informationen und Dokumente für Installateur*innen\")\n",
       "\n",
       "[Glossar](https://www.stromnetz.berlin/glossar/ \"Erfahre mehr zu den Begriffen der Energiewirtschaft in Glossar\")\n",
       "\n",
       "[Responsible disclosure](https://www.stromnetz.berlin/responsible-disclosure/ \"Informationen zur Meldung von Sicherheitslücken\")\n",
       "\n",
       "Störungsmanagement\n",
       "------------------\n",
       "\n",
       "**Störungsnummer Strom**\n",
       "\n",
       "0800 211 2525 \n",
       "\n",
       "(kostenfrei)\n",
       "\n",
       "**Störungsnummer Öffentliche Beleuchtung**\n",
       "\n",
       "0800 110 2010\n",
       "\n",
       "(kostenfrei)\n",
       "\n",
       "Folge uns\n",
       "---------\n",
       "\n",
       "[![Image 9: LinkedIn logotype](https://www.stromnetz.berlin/files/ui/images/icons/In-White-128.webp)](https://www.linkedin.com/company/stromnetzberlin/)[![Image 10: Youtube logotype](https://www.stromnetz.berlin/files/ui/images/icons/youtube_monochrome_light_icon.webp)](https://www.youtube.de/Stromnetzberlin)[![Image 11: X logotype](https://www.stromnetz.berlin/files/ui/images/icons/X-logo-white.webp)](https://x.com/stromnetzbln)\n",
       "\n",
       "*   [Impressum](https://www.stromnetz.berlin/impressum/ \"Angaben zu unseren Verantwortlichen\")\n",
       "*   [Datenschutz](https://www.stromnetz.berlin/datenschutz/ \"Link zur Datenschutzerklärung\")\n",
       "*   [Barrierefreiheitserklärung](https://www.stromnetz.berlin/uber-uns/veroffentlichungspflichten/barrierefreiheitserklarung-der-stromnetz-berlin-gmbh/ \"Link zur Barrierefreiheitserklärung\") \n",
       "*   [Über Cookies](https://www.stromnetz.berlin/ueber-cookies/ \"Informationen zu dem Einsatz von Cookies\")\n",
       "*   [Sitemap](https://www.stromnetz.berlin/sitemap/ \"Link zu einer alternativen Darstellungen der Seitenstruktur\")\n",
       "\n",
       "Cookie-Einstellungen\n",
       "--------------------\n",
       "\n",
       "[DE](https://www.stromnetz.berlin/)[EN](https://www.stromnetz.berlin/en)\n",
       "\n",
       "In der Regel können Sie die Seiten der Stromnetz Berlin GmbH besuchen, ohne dass wir personenbezogene Daten von Ihnen benötigen.\n",
       "\n",
       "Wir verwenden technisch notwendige Cookies für den sicheren Betrieb der Webseite. Um das Angebot auf unserer Webseite für Sie möglichst komfortabel zu gestalten verwenden wir ebenfalls Cookies. Des Weiteren nutzen wir Cookies für anonyme Statistiken zur Nutzung unserer Webseite.\n",
       "\n",
       "Soweit keine technische Notwendigkeit besteht, entscheiden Sie selbst darüber, welche Cookies Sie zulassen möchten und welche nicht. Die Auswahl kann jederzeit geändert werden.\n",
       "\n",
       "Weitere Informationen zur Stromnetz Berlin GmbH finden Sie unter [Impressum](https://www.stromnetz.berlin/impressum/) und [Datenschutz](https://www.stromnetz.berlin/datenschutz/).\n",
       "\n",
       "- [x]  Notwendig\n",
       "\n",
       "- [x]  Statistik\n",
       "\n",
       "- [x]  Komfort\n",
       "\n",
       "[Details](https://www.stromnetz.berlin/)\n",
       "\n",
       "**Notwendig**\n",
       "\n",
       "Technisch notwendige Cookies sind für das ordnungsgemäße und sichere Funktionieren der Webseite unbedingt erforderlich. Ohne diese Cookies kann unsere Webseite nicht wie vorgesehen genutzt werden. Diese Cookies sind immer aktiviert und können nicht deaktiviert werden. Eine Deaktivierung in Ihrem Browser kann dazu führen, dass die Webseite nicht ordnungsgemäß funktioniert.\n",
       "\n",
       "**Statistik**Statistische Cookies werden eingesetzt, um statistische Analysen zur Nutzung unserer Webseite und zur Wahrnehmung des Webauftritts durchzuführen. Hierfür werden Statistiken generiert, die einen Überblick über Besuche und Zugriffsquellen geben. Auf Basis der gesammelten statistischen Daten werden Schwachstellen analysiert und Optimierungsmaßnahmen ausgearbeitet, um Funktionalität, Inhalt und Attraktivität der Webseite zu verbessern. Diese Art von Cookies kann auch in Zusammenarbeit mit unseren Entwicklern verwendet werden. Diese Cookies sammeln keine Informationen, die mit Ihnen als Einzelperson in Verbindung gebracht werden können und sind vollständig anonym.\n",
       "\n",
       "**Komfort**\n",
       "\n",
       "Cookies zum Komfort werden von Stromnetz Berlin eingesetzt, um Ihnen den Besuch so komfortable wie möglich zu gestalten. Hierbei werden Ihr Browser und Endgerät eindeutig identifiziert.\n",
       "\n",
       "[Siehe detaillierte Cookie-Liste](https://www.stromnetz.berlin/)\n",
       "\n",
       "| Name | Kategorie | Anbieter | Zweck | Ablauf | HTTP |\n",
       "| --- | --- | --- | --- | --- | --- |\n",
       "|  |\n",
       "| cookieAgree | Notwendig | Comprend WaaS | In diesem Cookie werden die vom Benutzer bestätigten Cookie-Kategorien des Cookie Einwilligungsmanagements dokumentiert. | 90 Tage | Nein |\n",
       "| cookieSelection | Notwendig | Comprend WaaS | In diesem Cookie werden die vom Benutzer bestätigten Cookie-Kategorien des Cookie Einwilligungsmanagements dokumentiert. | 90 Tage | Nein |\n",
       "| crisisnotice | Notwendig | Comprend WaaS | In diesem Cookie wird die Benutzerbestätigung zum Schließen des Krisen-Popups dokumentiert. | Session | Nein |\n",
       "| _pk_id | Statistik | Matomo Analytics | Dieser Cookie speichert eine Benutzer ID und wird genutzt, um eine Statistik für die Stromnetz Berlin GmbH zu füllen. Die Statistik dient als Grundlage, um das Besucherverhalten zu analysieren und Verbesserungen zu erzielen. Die Statistik selber ist anonymisiert. | 13 Monate | Nein |\n",
       "| _pk_ref | Statistik | Matomo Analytics | Dieser Cookie wird verwendet, um die Attribute zu speichern, die ursprünglich zum Besuch der Website verwendet wurden. | 6 Monate | Nein |\n",
       "| _pk_ses | Statistik | Matomo Analytics | Dieser Cookie speichert für kurze Zeit das Besucherverhalten und wird genutzt, um eine Statistik für die Stromnetz Berlin GmbH zu füllen. Die Statistik dient als Grundlage, um das Besucherverhalten zu analysieren und Verbesserungen zu erzielen. Die Statistik selber ist anonymisiert. | 30 Minuten | Nein |\n",
       "| _pk_testcookie | Statistik | Matomo Analytics | Dieser Cookie wird eingesetzt zur Prüfung, ob der Browser Cookies unterstützt. | Wird erstellt und sofort wieder gelöscht | Nein |\n",
       "| Multiple | Komfort | Google/Youtube | Für die Anzeige von Videos auf unserer Webseite nutzen wir Youtube und der Videoplayer bzw. die Webseite von YouTube setzt Cookies auf Ihrem Computer. Ausführliche Informationen zu diesen Cookies und deren Einsatz finden Sie auf der [Website](https://policies.google.com/technologies/cookies?hl=en-US#how-google-uses-cookies) von Youtube (Google). | Various |  |\n",
       "\n",
       "Auswahl speichern\n",
       "\n",
       "Alle auswählen und akzeptieren\n",
       "</pre>\n",
       "            </div>\n",
       "\n",
       "            </details>\n",
       "        "
      ],
      "text/plain": [
       "<IPython.core.display.HTML object>"
      ]
     },
     "metadata": {},
     "output_type": "display_data"
    },
    {
     "data": {
      "text/html": [
       "\n",
       "            <div>\n",
       "                <div><b>Assistant:</b></div>\n",
       "                <div><p>The website &quot;Stromnetz Berlin&quot; presents itself as the reliable operator of the electrical grid in Berlin. Key sections include:</p>\n",
       "<ol>\n",
       "<li><p><strong>Connection Services</strong>: Information on connecting low, medium, and high voltage systems, including inspections and safety procedures.</p>\n",
       "</li>\n",
       "<li><p><strong>Feed-In Services</strong>: Details regarding renewable energy integration, including photovoltaic installations and cogeneration.</p>\n",
       "</li>\n",
       "<li><p><strong>Metering Services</strong>: Guidance on meter reading, installation, complaints, and digital meter systems.</p>\n",
       "</li>\n",
       "<li><p><strong>Network Usage</strong>: Information on utilizing the power grid, including tariffs and metering operations.</p>\n",
       "</li>\n",
       "<li><p><strong>Lighting</strong>: Details on street lighting operations and related projects.</p>\n",
       "</li>\n",
       "<li><p><strong>Careers</strong>: Job opportunities and training programs within the company.</p>\n",
       "</li>\n",
       "<li><p><strong>About Us</strong>: Insights into the company's management, sustainability measures, and historical background.</p>\n",
       "</li>\n",
       "<li><p><strong>Community Engagement</strong>: Initiatives like the citizens' council and local environmental projects.</p>\n",
       "</li>\n",
       "</ol>\n",
       "<p>Contact details and customer service options are also prominently featured, alongside recent news and press releases regarding their operations.</p>\n",
       "</div>\n",
       "            </div>\n",
       "        "
      ],
      "text/plain": [
       "<IPython.core.display.HTML object>"
      ]
     },
     "metadata": {},
     "output_type": "display_data"
    },
    {
     "name": "stdin",
     "output_type": "stream",
     "text": [
      "You: stop\n"
     ]
    },
    {
     "name": "stdout",
     "output_type": "stream",
     "text": [
      "Chat ended.\n"
     ]
    }
   ],
   "source": [
    "await runner.run();"
   ]
  },
  {
   "cell_type": "code",
   "execution_count": 37,
   "id": "a4702c25-ce91-4a64-933a-494ad9e27ad2",
   "metadata": {},
   "outputs": [],
   "source": [
    "from youtube_transcript_api import YouTubeTranscriptApi\n",
    "\n",
    "def format_timestamp(seconds:float) -> str:\n",
    "    \"\"\"Convert seconds to H:MM:SS if > 1hour, else M:SS\"\"\"\n",
    "    total_seconds = int(seconds)\n",
    "    hours, remainder = divmod(total_seconds, 3600)\n",
    "    minutes,secs = divmod(remainder, 60)\n",
    "\n",
    "    if hours>0:\n",
    "        return f\"{hours}:{minutes:02}:{secs:02}\"\n",
    "    else:\n",
    "        return f\"{minutes}:{secs:02}\"\n",
    "\n",
    "def make_subtitles (transcript) ->str:\n",
    "    lines=[]\n",
    "\n",
    "    for entry in transcript:\n",
    "        ts = format_timestamp(entry.start)\n",
    "        text = entry.text.replace('\\n',' ')\n",
    "        lines.append(ts+' '+text)\n",
    "    return '\\n'.join(lines)\n",
    "\n",
    "def fetch_transcript_raw(video_id):\n",
    "    ytt_api = YouTubeTranscriptApi()\n",
    "    transcript = ytt_api.fetch(video_id)\n",
    "    return transcript\n",
    "\n",
    "def fetch_transcript_text(video_id):\n",
    "    transcript = fetch_transcript_raw(video_id)\n",
    "    subtitles = make_subtitles(transcript)\n",
    "    return subtitles"
   ]
  },
  {
   "cell_type": "code",
   "execution_count": null,
   "id": "d9e07e62-9919-4d2c-943a-99af14605a3f",
   "metadata": {},
   "outputs": [],
   "source": []
  }
 ],
 "metadata": {
  "kernelspec": {
   "display_name": "Python 3 (ipykernel)",
   "language": "python",
   "name": "python3"
  },
  "language_info": {
   "codemirror_mode": {
    "name": "ipython",
    "version": 3
   },
   "file_extension": ".py",
   "mimetype": "text/x-python",
   "name": "python",
   "nbconvert_exporter": "python",
   "pygments_lexer": "ipython3",
   "version": "3.12.1"
  }
 },
 "nbformat": 4,
 "nbformat_minor": 5
}
