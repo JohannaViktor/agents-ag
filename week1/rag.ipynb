{
 "cells": [
  {
   "cell_type": "code",
   "execution_count": 1,
   "id": "28e1313d-2d02-40cb-9e24-788835f007f4",
   "metadata": {},
   "outputs": [],
   "source": [
    "from openai import OpenAI\n",
    "openai_client = OpenAI()"
   ]
  },
  {
   "cell_type": "code",
   "execution_count": 3,
   "id": "46e62dc9-d196-4a8f-8466-7423d5ecd5d5",
   "metadata": {},
   "outputs": [],
   "source": [
    "def llm(user_prompt, instructions=None, model=\"gpt-4o-mini\"):\n",
    "    messages = []\n",
    "\n",
    "    if instructions:\n",
    "        messages.append({\n",
    "            \"role\":\"system\",\n",
    "            \"content\":instructions\n",
    "        })\n",
    "\n",
    "    messages.append({\n",
    "        \"role\":\"user\",\n",
    "        \"content\":user_prompt\n",
    "    })\n",
    "\n",
    "    response = openai_client.responses.create(\n",
    "        model=model,\n",
    "        input=messages\n",
    "    )\n",
    "\n",
    "    return response.output_text"
   ]
  },
  {
   "cell_type": "code",
   "execution_count": 4,
   "id": "86e17c23-4502-4089-b233-de94ef11eba8",
   "metadata": {},
   "outputs": [
    {
     "data": {
      "text/plain": [
       "\"Could you please specify which course you're inquiring about? Details like the institution or subject would be helpful!\""
      ]
     },
     "execution_count": 4,
     "metadata": {},
     "output_type": "execute_result"
    }
   ],
   "source": [
    "llm(\"When does the course start?\")"
   ]
  },
  {
   "cell_type": "code",
   "execution_count": 5,
   "id": "c51f8119-d1f5-46e8-9694-552e5dba5011",
   "metadata": {},
   "outputs": [],
   "source": []
  },
  {
   "cell_type": "code",
   "execution_count": 9,
   "id": "e1cb948b-4b07-4fb3-8a27-08a86e9705f9",
   "metadata": {},
   "outputs": [],
   "source": [
    "import requests\n",
    "\n",
    "docs_url = \"https://github.com/alexeygrigorev/llm-rag-workshop/raw/main/notebooks/documents.json\"\n",
    "docs_response = requests.get(docs_url)\n",
    "documents_raw = docs_response.json()\n",
    "\n",
    "documents=[]\n",
    "\n",
    "for course in documents_raw:\n",
    "    course_name = course['course']\n",
    "\n",
    "    for doc in course['documents']:\n",
    "        doc['course'] = course_name\n",
    "        documents.append(doc)"
   ]
  },
  {
   "cell_type": "code",
   "execution_count": 6,
   "id": "969b74fa-2e44-4871-9eab-b8833e7afe8b",
   "metadata": {},
   "outputs": [],
   "source": [
    "from minsearch import Index"
   ]
  },
  {
   "cell_type": "code",
   "execution_count": 10,
   "id": "89a26bf1-7854-4597-aff2-76d4fba25cac",
   "metadata": {},
   "outputs": [
    {
     "data": {
      "text/plain": [
       "<minsearch.minsearch.Index at 0x76380ce784a0>"
      ]
     },
     "execution_count": 10,
     "metadata": {},
     "output_type": "execute_result"
    }
   ],
   "source": [
    "index = Index(\n",
    "    text_fields=[\"questions\",\"text\",\"section\"],\n",
    "    keyword_fields=[\"course\"]\n",
    ")\n",
    "index.fit(documents)"
   ]
  },
  {
   "cell_type": "code",
   "execution_count": 19,
   "id": "10c3efed-f1f2-4b01-8313-03e50adec571",
   "metadata": {},
   "outputs": [],
   "source": [
    "def search (question):\n",
    "    return index.search(\n",
    "        question,\n",
    "        boost_dict={'question':3.0,'section':0.3},\n",
    "        num_results=5,\n",
    "        filter_dict = {'course':'data-engineering-zoomcamp'}\n",
    "    )"
   ]
  },
  {
   "cell_type": "code",
   "execution_count": 20,
   "id": "b6b189ca-a3e0-4c11-9405-cc22c81162c0",
   "metadata": {},
   "outputs": [],
   "source": [
    "question = \"I just discovered the course. can i njoin now?\""
   ]
  },
  {
   "cell_type": "code",
   "execution_count": 22,
   "id": "9cda37ec-1016-4996-971d-a0a33bc27fe0",
   "metadata": {},
   "outputs": [],
   "source": [
    "search_results = search(question)"
   ]
  },
  {
   "cell_type": "code",
   "execution_count": 23,
   "id": "689215ba-ff26-4c12-beb6-9252d93fb905",
   "metadata": {},
   "outputs": [],
   "source": [
    "instructions = \"\"\"\n",
    "You are a course teaching assistant. Answer the QUESTION based on the CONTEXT from the FAQ database. \n",
    "Use only the facts from the CONTEXT when answering the QUESTION.\n",
    "\"\"\".strip()\n",
    "\n",
    "prompt_template = \"\"\"\n",
    "<QUESTION>\n",
    "{question}\n",
    "</QUESTION>\n",
    "\n",
    "<CONTEXT>\n",
    "{context}\n",
    "</CONTEXT>\n",
    "\"\"\".strip()"
   ]
  },
  {
   "cell_type": "code",
   "execution_count": 24,
   "id": "e7ff21b5-1099-49f9-967c-81300f388879",
   "metadata": {},
   "outputs": [],
   "source": [
    "import json"
   ]
  },
  {
   "cell_type": "code",
   "execution_count": 27,
   "id": "e7d4203d-767e-4a83-9579-6d28296e29dc",
   "metadata": {},
   "outputs": [
    {
     "name": "stdout",
     "output_type": "stream",
     "text": [
      "[{'text': \"It's up to you which platform and environment you use for the course.\\nGithub codespaces or GCP VM are just possible options, but you can do the entire course from your laptop.\", 'section': 'General course-related questions', 'question': 'Environment - Do we really have to use GitHub codespaces? I already have PostgreSQL & Docker installed.', 'course': 'data-engineering-zoomcamp'}, {'text': \"The purpose of this document is to capture frequently asked technical questions\\nThe exact day and hour of the course will be 15th Jan 2024 at 17h00. The course will start with the first  “Office Hours'' live.1\\nSubscribe to course public Google Calendar (it works from Desktop only).\\nRegister before the course starts using this link.\\nJoin the course Telegram channel with announcements.\\nDon’t forget to register in DataTalks.Club's Slack and join the channel.\", 'section': 'General course-related questions', 'question': 'Course - When will the course start?', 'course': 'data-engineering-zoomcamp'}, {'text': 'You can do most of the course without a cloud. Almost everything we use (excluding BigQuery) can be run locally. We won’t be able to provide guidelines for some things, but most of the materials are runnable without GCP.\\nFor everything in the course, there’s a local alternative. You could even do the whole course locally.', 'section': 'General course-related questions', 'question': 'Environment - The GCP and other cloud providers are unavailable in some countries. Is it possible to provide a guide to installing a home lab?', 'course': 'data-engineering-zoomcamp'}, {'text': 'Yes, we will keep all the materials after the course finishes, so you can follow the course at your own pace after it finishes.\\nYou can also continue looking at the homeworks and continue preparing for the next cohort. I guess you can also start working on your final capstone project.', 'section': 'General course-related questions', 'question': 'Course - Can I follow the course after it finishes?', 'course': 'data-engineering-zoomcamp'}, {'text': \"No, you can only get a certificate if you finish the course with a “live” cohort. We don't award certificates for the self-paced mode. The reason is you need to peer-review capstone(s) after submitting a project. You can only peer-review projects at the time the course is running.\", 'section': 'General course-related questions', 'question': 'Certificate - Can I follow the course in a self-paced mode and get a certificate?', 'course': 'data-engineering-zoomcamp'}]\n"
     ]
    }
   ],
   "source": [
    "print(search_results)"
   ]
  },
  {
   "cell_type": "code",
   "execution_count": 28,
   "id": "6d50b008-f2ba-4a2b-b79a-bfd3bd2f595f",
   "metadata": {},
   "outputs": [],
   "source": [
    "def build_prompt(question, search_results):\n",
    "    search_json=json.dumps(search_results),\n",
    "    return prompt_template.format(question=question, context=search_json)"
   ]
  },
  {
   "cell_type": "code",
   "execution_count": 31,
   "id": "5a483b40-d26b-4175-8c18-238b1f399c13",
   "metadata": {},
   "outputs": [
    {
     "data": {
      "text/plain": [
       "'<QUESTION>\\nI just discovered the course. can i njoin now?\\n</QUESTION>\\n\\n<CONTEXT>\\n(\\'[{\"text\": \"It\\\\\\'s up to you which platform and environment you use for the course.\\\\\\\\nGithub codespaces or GCP VM are just possible options, but you can do the entire course from your laptop.\", \"section\": \"General course-related questions\", \"question\": \"Environment - Do we really have to use GitHub codespaces? I already have PostgreSQL & Docker installed.\", \"course\": \"data-engineering-zoomcamp\"}, {\"text\": \"The purpose of this document is to capture frequently asked technical questions\\\\\\\\nThe exact day and hour of the course will be 15th Jan 2024 at 17h00. The course will start with the first  \\\\\\\\u201cOffice Hours\\\\\\'\\\\\\' live.1\\\\\\\\nSubscribe to course public Google Calendar (it works from Desktop only).\\\\\\\\nRegister before the course starts using this link.\\\\\\\\nJoin the course Telegram channel with announcements.\\\\\\\\nDon\\\\\\\\u2019t forget to register in DataTalks.Club\\\\\\'s Slack and join the channel.\", \"section\": \"General course-related questions\", \"question\": \"Course - When will the course start?\", \"course\": \"data-engineering-zoomcamp\"}, {\"text\": \"You can do most of the course without a cloud. Almost everything we use (excluding BigQuery) can be run locally. We won\\\\\\\\u2019t be able to provide guidelines for some things, but most of the materials are runnable without GCP.\\\\\\\\nFor everything in the course, there\\\\\\\\u2019s a local alternative. You could even do the whole course locally.\", \"section\": \"General course-related questions\", \"question\": \"Environment - The GCP and other cloud providers are unavailable in some countries. Is it possible to provide a guide to installing a home lab?\", \"course\": \"data-engineering-zoomcamp\"}, {\"text\": \"Yes, we will keep all the materials after the course finishes, so you can follow the course at your own pace after it finishes.\\\\\\\\nYou can also continue looking at the homeworks and continue preparing for the next cohort. I guess you can also start working on your final capstone project.\", \"section\": \"General course-related questions\", \"question\": \"Course - Can I follow the course after it finishes?\", \"course\": \"data-engineering-zoomcamp\"}, {\"text\": \"No, you can only get a certificate if you finish the course with a \\\\\\\\u201clive\\\\\\\\u201d cohort. We don\\\\\\'t award certificates for the self-paced mode. The reason is you need to peer-review capstone(s) after submitting a project. You can only peer-review projects at the time the course is running.\", \"section\": \"General course-related questions\", \"question\": \"Certificate - Can I follow the course in a self-paced mode and get a certificate?\", \"course\": \"data-engineering-zoomcamp\"}]\\',)\\n</CONTEXT>'"
      ]
     },
     "execution_count": 31,
     "metadata": {},
     "output_type": "execute_result"
    }
   ],
   "source": [
    "build_prompt(question, search_results)"
   ]
  },
  {
   "cell_type": "code",
   "execution_count": 73,
   "id": "2c403ee0-49a3-4b59-b5bb-3ef8a252387e",
   "metadata": {},
   "outputs": [],
   "source": [
    "def rag(question):\n",
    "    search_results = search(question)\n",
    "    user_prompt = build_prompt(question, search_results)\n",
    "    return llm(user_prompt, instructions=instructions)"
   ]
  },
  {
   "cell_type": "code",
   "execution_count": 74,
   "id": "c76d2045-a12e-433d-9753-87510135a16a",
   "metadata": {},
   "outputs": [
    {
     "data": {
      "text/plain": [
       "'The provided context does not specify whether enrollment is still open for the program. You may want to check the official course page or contact the course administrators for the most accurate information regarding enrollment.'"
      ]
     },
     "execution_count": 74,
     "metadata": {},
     "output_type": "execute_result"
    }
   ],
   "source": [
    "rag(question)"
   ]
  },
  {
   "cell_type": "code",
   "execution_count": 42,
   "id": "691bc3b6-b2d4-434f-bfd6-0907599835bc",
   "metadata": {},
   "outputs": [
    {
     "data": {
      "application/vnd.jupyter.widget-view+json": {
       "model_id": "ca576e9058fb4ce09d6912a87340deba",
       "version_major": 2,
       "version_minor": 0
      },
      "text/plain": [
       "modules.json:   0%|          | 0.00/349 [00:00<?, ?B/s]"
      ]
     },
     "metadata": {},
     "output_type": "display_data"
    },
    {
     "data": {
      "application/vnd.jupyter.widget-view+json": {
       "model_id": "5bbe30ff8526446a9f21444d39478b84",
       "version_major": 2,
       "version_minor": 0
      },
      "text/plain": [
       "config_sentence_transformers.json:   0%|          | 0.00/116 [00:00<?, ?B/s]"
      ]
     },
     "metadata": {},
     "output_type": "display_data"
    },
    {
     "data": {
      "application/vnd.jupyter.widget-view+json": {
       "model_id": "7b2a66c1451541e68fbbd329085cc8a9",
       "version_major": 2,
       "version_minor": 0
      },
      "text/plain": [
       "README.md: 0.00B [00:00, ?B/s]"
      ]
     },
     "metadata": {},
     "output_type": "display_data"
    },
    {
     "data": {
      "application/vnd.jupyter.widget-view+json": {
       "model_id": "30709ed7b0a7418d955d0cf7d3395d09",
       "version_major": 2,
       "version_minor": 0
      },
      "text/plain": [
       "sentence_bert_config.json:   0%|          | 0.00/53.0 [00:00<?, ?B/s]"
      ]
     },
     "metadata": {},
     "output_type": "display_data"
    },
    {
     "data": {
      "application/vnd.jupyter.widget-view+json": {
       "model_id": "a299ac256f124082a0572d3fb8b8d19f",
       "version_major": 2,
       "version_minor": 0
      },
      "text/plain": [
       "config.json:   0%|          | 0.00/523 [00:00<?, ?B/s]"
      ]
     },
     "metadata": {},
     "output_type": "display_data"
    },
    {
     "data": {
      "application/vnd.jupyter.widget-view+json": {
       "model_id": "207e19b94bcb467ba8e739b7049e3521",
       "version_major": 2,
       "version_minor": 0
      },
      "text/plain": [
       "model.safetensors:   0%|          | 0.00/265M [00:00<?, ?B/s]"
      ]
     },
     "metadata": {},
     "output_type": "display_data"
    },
    {
     "data": {
      "application/vnd.jupyter.widget-view+json": {
       "model_id": "ad3a8013ffac49b296a656c01151feb8",
       "version_major": 2,
       "version_minor": 0
      },
      "text/plain": [
       "tokenizer_config.json:   0%|          | 0.00/333 [00:00<?, ?B/s]"
      ]
     },
     "metadata": {},
     "output_type": "display_data"
    },
    {
     "data": {
      "application/vnd.jupyter.widget-view+json": {
       "model_id": "b11ce2c1aaca41aeb3ee36d3f5e93cf1",
       "version_major": 2,
       "version_minor": 0
      },
      "text/plain": [
       "vocab.txt: 0.00B [00:00, ?B/s]"
      ]
     },
     "metadata": {},
     "output_type": "display_data"
    },
    {
     "data": {
      "application/vnd.jupyter.widget-view+json": {
       "model_id": "c021af67bed7426bb8cbb5667b584ad3",
       "version_major": 2,
       "version_minor": 0
      },
      "text/plain": [
       "tokenizer.json: 0.00B [00:00, ?B/s]"
      ]
     },
     "metadata": {},
     "output_type": "display_data"
    },
    {
     "data": {
      "application/vnd.jupyter.widget-view+json": {
       "model_id": "03fe16037460418bb195dd33c43f280b",
       "version_major": 2,
       "version_minor": 0
      },
      "text/plain": [
       "special_tokens_map.json:   0%|          | 0.00/112 [00:00<?, ?B/s]"
      ]
     },
     "metadata": {},
     "output_type": "display_data"
    },
    {
     "data": {
      "application/vnd.jupyter.widget-view+json": {
       "model_id": "2831a5d789a94ad4977565c52cec613c",
       "version_major": 2,
       "version_minor": 0
      },
      "text/plain": [
       "config.json:   0%|          | 0.00/190 [00:00<?, ?B/s]"
      ]
     },
     "metadata": {},
     "output_type": "display_data"
    }
   ],
   "source": [
    "from sentence_transformers import SentenceTransformer\n",
    "embedding_model = SentenceTransformer('multi-qa-distilbert-cos-v1')"
   ]
  },
  {
   "cell_type": "code",
   "execution_count": 48,
   "id": "634ad117-7a6d-42e5-b0d4-55ddd75cbe3f",
   "metadata": {},
   "outputs": [],
   "source": [
    "docs = [[\"I just discovered the course, can I still join?\"],[\"I just found out about the program. Can I still enrol?\"],\n",
    "[\"you can join the course at any point of the time\"]]\n",
    "vectors=[]\n",
    "for d in docs:\n",
    "    \n",
    "    v = embedding_model.encode(d)\n",
    "    vectors.append(v)\n",
    "\n"
   ]
  },
  {
   "cell_type": "code",
   "execution_count": 50,
   "id": "250b1163-932d-4a93-8f9b-04325ea7419f",
   "metadata": {},
   "outputs": [],
   "source": [
    "q1, q2, d = vectors"
   ]
  },
  {
   "cell_type": "code",
   "execution_count": 53,
   "id": "32a88702-f9e2-48b8-a2cf-927cf23dba3f",
   "metadata": {},
   "outputs": [],
   "source": [
    "q1 = q1[0]\n",
    "q2=q2[0]\n",
    "d=d[0]"
   ]
  },
  {
   "cell_type": "code",
   "execution_count": 56,
   "id": "fc85df14-1ede-41ad-b7de-9ff0f7f33890",
   "metadata": {},
   "outputs": [
    {
     "data": {
      "text/plain": [
       "np.float32(0.50491434)"
      ]
     },
     "execution_count": 56,
     "metadata": {},
     "output_type": "execute_result"
    }
   ],
   "source": [
    "q2.dot(d)"
   ]
  },
  {
   "cell_type": "code",
   "execution_count": 57,
   "id": "afd0a412-e398-4ed2-a7e8-86647cb33169",
   "metadata": {},
   "outputs": [
    {
     "name": "stderr",
     "output_type": "stream",
     "text": [
      "huggingface/tokenizers: The current process just got forked, after parallelism has already been used. Disabling parallelism to avoid deadlocks...\n",
      "To disable this warning, you can either:\n",
      "\t- Avoid using `tokenizers` before the fork if possible\n",
      "\t- Explicitly set the environment variable TOKENIZERS_PARALLELISM=(true | false)\n"
     ]
    },
    {
     "name": "stdout",
     "output_type": "stream",
     "text": [
      "\u001b[2K\u001b[2mResolved \u001b[1m150 packages\u001b[0m \u001b[2min 648ms\u001b[0m\u001b[0m                                       \u001b[0m\n",
      "\u001b[2K\u001b[2mAudited \u001b[1m145 packages\u001b[0m \u001b[2min 179ms\u001b[0m\u001b[0m                                        \u001b[0m\n"
     ]
    }
   ],
   "source": [
    "!uv add tqdm"
   ]
  },
  {
   "cell_type": "code",
   "execution_count": 58,
   "id": "9dd8e225-0100-4a4a-a80d-26af4a5863eb",
   "metadata": {},
   "outputs": [],
   "source": [
    "from tqdm.auto import tqdm"
   ]
  },
  {
   "cell_type": "code",
   "execution_count": 60,
   "id": "39186f56-b814-47b4-92e4-408fcd0682db",
   "metadata": {},
   "outputs": [],
   "source": [
    "import numpy as np"
   ]
  },
  {
   "cell_type": "code",
   "execution_count": 61,
   "id": "f00efa64-7de0-4ecd-a16f-108e2b0357dc",
   "metadata": {},
   "outputs": [
    {
     "data": {
      "application/vnd.jupyter.widget-view+json": {
       "model_id": "099547db81814ab9b2dd40c5b5d82d23",
       "version_major": 2,
       "version_minor": 0
      },
      "text/plain": [
       "  0%|          | 0/948 [00:00<?, ?it/s]"
      ]
     },
     "metadata": {},
     "output_type": "display_data"
    }
   ],
   "source": [
    "embeddings=[]\n",
    "for d in tqdm(documents):\n",
    "    text=d['question']+' '+d['text']\n",
    "    v = embedding_model.encode(text)\n",
    "    embeddings.append(v)\n",
    "embeddings = np.array(embeddings)"
   ]
  },
  {
   "cell_type": "code",
   "execution_count": 62,
   "id": "fbd0bb53-8b17-409d-bb9c-af636abc29ec",
   "metadata": {},
   "outputs": [
    {
     "data": {
      "text/plain": [
       "(948, 768)"
      ]
     },
     "execution_count": 62,
     "metadata": {},
     "output_type": "execute_result"
    }
   ],
   "source": [
    "embeddings.shape"
   ]
  },
  {
   "cell_type": "code",
   "execution_count": 64,
   "id": "30e9db14-55c6-44c4-847b-68ea85591079",
   "metadata": {},
   "outputs": [],
   "source": [
    "from minsearch import VectorSearch"
   ]
  },
  {
   "cell_type": "code",
   "execution_count": 66,
   "id": "a1a1adaf-f999-4228-b720-c8f31395bc2a",
   "metadata": {},
   "outputs": [
    {
     "data": {
      "text/plain": [
       "<minsearch.vector.VectorSearch at 0x7636ffa10aa0>"
      ]
     },
     "execution_count": 66,
     "metadata": {},
     "output_type": "execute_result"
    }
   ],
   "source": [
    "vindex = VectorSearch(keyword_fields=['course'])\n",
    "vindex.fit(embeddings, documents)"
   ]
  },
  {
   "cell_type": "code",
   "execution_count": 67,
   "id": "19b86311-25c7-44f9-8fa6-2bdd628d0b9c",
   "metadata": {},
   "outputs": [
    {
     "data": {
      "text/plain": [
       "[{'text': \"Yes, even if you don't register, you're still eligible to submit the homeworks.\\nBe aware, however, that there will be deadlines for turning in the final projects. So don't leave everything for the last minute.\",\n",
       "  'section': 'General course-related questions',\n",
       "  'question': 'Course - Can I still join the course after the start date?',\n",
       "  'course': 'data-engineering-zoomcamp'},\n",
       " {'text': 'Yes, we will keep all the materials after the course finishes, so you can follow the course at your own pace after it finishes.\\nYou can also continue looking at the homeworks and continue preparing for the next cohort. I guess you can also start working on your final capstone project.',\n",
       "  'section': 'General course-related questions',\n",
       "  'question': 'Course - Can I follow the course after it finishes?',\n",
       "  'course': 'data-engineering-zoomcamp'},\n",
       " {'text': \"No, you can only get a certificate if you finish the course with a “live” cohort. We don't award certificates for the self-paced mode. The reason is you need to peer-review capstone(s) after submitting a project. You can only peer-review projects at the time the course is running.\",\n",
       "  'section': 'General course-related questions',\n",
       "  'question': 'Certificate - Can I follow the course in a self-paced mode and get a certificate?',\n",
       "  'course': 'data-engineering-zoomcamp'},\n",
       " {'text': \"The purpose of this document is to capture frequently asked technical questions\\nThe exact day and hour of the course will be 15th Jan 2024 at 17h00. The course will start with the first  “Office Hours'' live.1\\nSubscribe to course public Google Calendar (it works from Desktop only).\\nRegister before the course starts using this link.\\nJoin the course Telegram channel with announcements.\\nDon’t forget to register in DataTalks.Club's Slack and join the channel.\",\n",
       "  'section': 'General course-related questions',\n",
       "  'question': 'Course - When will the course start?',\n",
       "  'course': 'data-engineering-zoomcamp'},\n",
       " {'text': 'Yes, the slack channel remains open and you can ask questions there. But always sDocker containers exit code w search the channel first and second, check the FAQ (this document), most likely all your questions are already answered here.\\nYou can also tag the bot @ZoomcampQABot to help you conduct the search, but don’t rely on its answers 100%, it is pretty good though.',\n",
       "  'section': 'General course-related questions',\n",
       "  'question': 'Course - Can I get support if I take the course in the self-paced mode?',\n",
       "  'course': 'data-engineering-zoomcamp'}]"
      ]
     },
     "execution_count": 67,
     "metadata": {},
     "output_type": "execute_result"
    }
   ],
   "source": [
    "vindex.search(q2, filter_dict={'course':'data-engineering-zoomcamp'},num_results=5)"
   ]
  },
  {
   "cell_type": "code",
   "execution_count": 68,
   "id": "766c451e-88f5-4fc4-bfd2-2381f4d3d699",
   "metadata": {},
   "outputs": [],
   "source": [
    "def vector_search(question):\n",
    "    q = embedding_model.encode(question)\n",
    "    return vindex.search(q,filter_dict={'course':'data-engineering-zoomcamp'},num_results=5)"
   ]
  },
  {
   "cell_type": "code",
   "execution_count": 69,
   "id": "0e2e4f5e-5594-4e4e-992a-9a2c004db834",
   "metadata": {
    "scrolled": true
   },
   "outputs": [
    {
     "data": {
      "text/plain": [
       "[{'text': \"Yes, even if you don't register, you're still eligible to submit the homeworks.\\nBe aware, however, that there will be deadlines for turning in the final projects. So don't leave everything for the last minute.\",\n",
       "  'section': 'General course-related questions',\n",
       "  'question': 'Course - Can I still join the course after the start date?',\n",
       "  'course': 'data-engineering-zoomcamp'},\n",
       " {'text': 'Yes, we will keep all the materials after the course finishes, so you can follow the course at your own pace after it finishes.\\nYou can also continue looking at the homeworks and continue preparing for the next cohort. I guess you can also start working on your final capstone project.',\n",
       "  'section': 'General course-related questions',\n",
       "  'question': 'Course - Can I follow the course after it finishes?',\n",
       "  'course': 'data-engineering-zoomcamp'},\n",
       " {'text': \"No, you can only get a certificate if you finish the course with a “live” cohort. We don't award certificates for the self-paced mode. The reason is you need to peer-review capstone(s) after submitting a project. You can only peer-review projects at the time the course is running.\",\n",
       "  'section': 'General course-related questions',\n",
       "  'question': 'Certificate - Can I follow the course in a self-paced mode and get a certificate?',\n",
       "  'course': 'data-engineering-zoomcamp'},\n",
       " {'text': \"The purpose of this document is to capture frequently asked technical questions\\nThe exact day and hour of the course will be 15th Jan 2024 at 17h00. The course will start with the first  “Office Hours'' live.1\\nSubscribe to course public Google Calendar (it works from Desktop only).\\nRegister before the course starts using this link.\\nJoin the course Telegram channel with announcements.\\nDon’t forget to register in DataTalks.Club's Slack and join the channel.\",\n",
       "  'section': 'General course-related questions',\n",
       "  'question': 'Course - When will the course start?',\n",
       "  'course': 'data-engineering-zoomcamp'},\n",
       " {'text': 'Yes, the slack channel remains open and you can ask questions there. But always sDocker containers exit code w search the channel first and second, check the FAQ (this document), most likely all your questions are already answered here.\\nYou can also tag the bot @ZoomcampQABot to help you conduct the search, but don’t rely on its answers 100%, it is pretty good though.',\n",
       "  'section': 'General course-related questions',\n",
       "  'question': 'Course - Can I get support if I take the course in the self-paced mode?',\n",
       "  'course': 'data-engineering-zoomcamp'}]"
      ]
     },
     "execution_count": 69,
     "metadata": {},
     "output_type": "execute_result"
    }
   ],
   "source": [
    "vector_search(\"I just found out about the program. Can I still enrol?\")"
   ]
  },
  {
   "cell_type": "code",
   "execution_count": 70,
   "id": "1c99f1c4-ca5a-4f9c-952a-50ff58de7c58",
   "metadata": {},
   "outputs": [],
   "source": [
    "def rag(question):\n",
    "    search_results = vector_search(question)\n",
    "    user_prompt = build_prompt(question, search_results)\n",
    "    return llm(user_prompt, instructions=instructions)"
   ]
  },
  {
   "cell_type": "code",
   "execution_count": 72,
   "id": "cf96d4e7-61e4-451c-9637-6f316ae4a8f7",
   "metadata": {},
   "outputs": [
    {
     "data": {
      "text/plain": [
       "'Yes, you can still enroll in the program, but be aware that there will be deadlines for turning in the final projects.'"
      ]
     },
     "execution_count": 72,
     "metadata": {},
     "output_type": "execute_result"
    }
   ],
   "source": [
    "question = \"I just found out about the program. Can I still enrol?\"\n",
    "rag(question)"
   ]
  },
  {
   "cell_type": "code",
   "execution_count": 75,
   "id": "1b7af2dd-a6d1-4e5f-b416-cfc12a2cd947",
   "metadata": {},
   "outputs": [],
   "source": [
    "def hybrid_search(question):\n",
    "    r1 = search(question)\n",
    "    r2 = vector_search(question)\n",
    "    return r1 + r2"
   ]
  },
  {
   "cell_type": "code",
   "execution_count": 76,
   "id": "24b20442-7b2c-49c7-9054-a2fbb7faf9c1",
   "metadata": {},
   "outputs": [],
   "source": [
    "def hy_rag(question):\n",
    "    search_results = hybrid_search(question)\n",
    "    user_prompt = build_prompt(question, search_results)\n",
    "    return llm(user_prompt, instructions=instructions)"
   ]
  },
  {
   "cell_type": "code",
   "execution_count": 77,
   "id": "1fac1135-eae1-40ce-a2f5-adf2c59b8c47",
   "metadata": {},
   "outputs": [
    {
     "data": {
      "text/plain": [
       "\"Yes, you can still join the course after the start date. Even if you don't register, you're eligible to submit the homework. However, be aware that there will be deadlines for turning in the final projects, so it’s advisable not to leave everything for the last minute.\""
      ]
     },
     "execution_count": 77,
     "metadata": {},
     "output_type": "execute_result"
    }
   ],
   "source": [
    "hy_rag(question)"
   ]
  },
  {
   "cell_type": "code",
   "execution_count": null,
   "id": "db8621de-833f-4812-b79a-bb4907b3314d",
   "metadata": {},
   "outputs": [],
   "source": []
  }
 ],
 "metadata": {
  "kernelspec": {
   "display_name": "Python 3 (ipykernel)",
   "language": "python",
   "name": "python3"
  },
  "language_info": {
   "codemirror_mode": {
    "name": "ipython",
    "version": 3
   },
   "file_extension": ".py",
   "mimetype": "text/x-python",
   "name": "python",
   "nbconvert_exporter": "python",
   "pygments_lexer": "ipython3",
   "version": "3.12.1"
  }
 },
 "nbformat": 4,
 "nbformat_minor": 5
}
