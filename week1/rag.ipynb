{
 "cells": [
  {
   "cell_type": "code",
   "execution_count": 1,
   "id": "28e1313d-2d02-40cb-9e24-788835f007f4",
   "metadata": {},
   "outputs": [],
   "source": [
    "from openai import OpenAI\n",
    "openai_client = OpenAI()"
   ]
  },
  {
   "cell_type": "code",
   "execution_count": 3,
   "id": "46e62dc9-d196-4a8f-8466-7423d5ecd5d5",
   "metadata": {},
   "outputs": [],
   "source": [
    "def llm(user_prompt, instructions=None, model=\"gpt-4o-mini\"):\n",
    "    messages = []\n",
    "\n",
    "    if instructions:\n",
    "        messages.append({\n",
    "            \"role\":\"system\",\n",
    "            \"content\":instructions\n",
    "        })\n",
    "\n",
    "    messages.append({\n",
    "        \"role\":\"user\",\n",
    "        \"content\":user_prompt\n",
    "    })\n",
    "\n",
    "    response = openai_client.responses.create(\n",
    "        model=model,\n",
    "        input=messages\n",
    "    )\n",
    "\n",
    "    return response.output_text"
   ]
  },
  {
   "cell_type": "code",
   "execution_count": 4,
   "id": "86e17c23-4502-4089-b233-de94ef11eba8",
   "metadata": {},
   "outputs": [
    {
     "data": {
      "text/plain": [
       "\"Could you please specify which course you're inquiring about? Details like the institution or subject would be helpful!\""
      ]
     },
     "execution_count": 4,
     "metadata": {},
     "output_type": "execute_result"
    }
   ],
   "source": [
    "llm(\"When does the course start?\")"
   ]
  },
  {
   "cell_type": "code",
   "execution_count": 5,
   "id": "c51f8119-d1f5-46e8-9694-552e5dba5011",
   "metadata": {},
   "outputs": [],
   "source": []
  },
  {
   "cell_type": "code",
   "execution_count": 9,
   "id": "e1cb948b-4b07-4fb3-8a27-08a86e9705f9",
   "metadata": {},
   "outputs": [],
   "source": [
    "import requests\n",
    "\n",
    "docs_url = \"https://github.com/alexeygrigorev/llm-rag-workshop/raw/main/notebooks/documents.json\"\n",
    "docs_response = requests.get(docs_url)\n",
    "documents_raw = docs_response.json()\n",
    "\n",
    "documents=[]\n",
    "\n",
    "for course in documents_raw:\n",
    "    course_name = course['course']\n",
    "\n",
    "    for doc in course['documents']:\n",
    "        doc['course'] = course_name\n",
    "        documents.append(doc)"
   ]
  },
  {
   "cell_type": "code",
   "execution_count": 6,
   "id": "969b74fa-2e44-4871-9eab-b8833e7afe8b",
   "metadata": {},
   "outputs": [],
   "source": [
    "from minsearch import Index"
   ]
  },
  {
   "cell_type": "code",
   "execution_count": 10,
   "id": "89a26bf1-7854-4597-aff2-76d4fba25cac",
   "metadata": {},
   "outputs": [
    {
     "data": {
      "text/plain": [
       "<minsearch.minsearch.Index at 0x76380ce784a0>"
      ]
     },
     "execution_count": 10,
     "metadata": {},
     "output_type": "execute_result"
    }
   ],
   "source": [
    "index = Index(\n",
    "    text_fields=[\"questions\",\"text\",\"section\"],\n",
    "    keyword_fields=[\"course\"]\n",
    ")\n",
    "index.fit(documents)"
   ]
  },
  {
   "cell_type": "code",
   "execution_count": 19,
   "id": "10c3efed-f1f2-4b01-8313-03e50adec571",
   "metadata": {},
   "outputs": [],
   "source": [
    "def search (question):\n",
    "    return index.search(\n",
    "        question,\n",
    "        boost_dict={'question':3.0,'section':0.3},\n",
    "        num_results=5,\n",
    "        filter_dict = {'course':'data-engineering-zoomcamp'}\n",
    "    )"
   ]
  },
  {
   "cell_type": "code",
   "execution_count": 20,
   "id": "b6b189ca-a3e0-4c11-9405-cc22c81162c0",
   "metadata": {},
   "outputs": [],
   "source": [
    "question = \"I just discovered the course. can i njoin now?\""
   ]
  },
  {
   "cell_type": "code",
   "execution_count": 22,
   "id": "9cda37ec-1016-4996-971d-a0a33bc27fe0",
   "metadata": {},
   "outputs": [],
   "source": [
    "search_results = search(question)"
   ]
  },
  {
   "cell_type": "code",
   "execution_count": 23,
   "id": "689215ba-ff26-4c12-beb6-9252d93fb905",
   "metadata": {},
   "outputs": [],
   "source": [
    "instructions = \"\"\"\n",
    "You are a course teaching assistant. Answer the QUESTION based on the CONTEXT from the FAQ database. \n",
    "Use only the facts from the CONTEXT when answering the QUESTION.\n",
    "\"\"\".strip()\n",
    "\n",
    "prompt_template = \"\"\"\n",
    "<QUESTION>\n",
    "{question}\n",
    "</QUESTION>\n",
    "\n",
    "<CONTEXT>\n",
    "{context}\n",
    "</CONTEXT>\n",
    "\"\"\".strip()"
   ]
  },
  {
   "cell_type": "code",
   "execution_count": 24,
   "id": "e7ff21b5-1099-49f9-967c-81300f388879",
   "metadata": {},
   "outputs": [],
   "source": [
    "import json"
   ]
  },
  {
   "cell_type": "code",
   "execution_count": 27,
   "id": "e7d4203d-767e-4a83-9579-6d28296e29dc",
   "metadata": {},
   "outputs": [
    {
     "name": "stdout",
     "output_type": "stream",
     "text": [
      "[{'text': \"It's up to you which platform and environment you use for the course.\\nGithub codespaces or GCP VM are just possible options, but you can do the entire course from your laptop.\", 'section': 'General course-related questions', 'question': 'Environment - Do we really have to use GitHub codespaces? I already have PostgreSQL & Docker installed.', 'course': 'data-engineering-zoomcamp'}, {'text': \"The purpose of this document is to capture frequently asked technical questions\\nThe exact day and hour of the course will be 15th Jan 2024 at 17h00. The course will start with the first  “Office Hours'' live.1\\nSubscribe to course public Google Calendar (it works from Desktop only).\\nRegister before the course starts using this link.\\nJoin the course Telegram channel with announcements.\\nDon’t forget to register in DataTalks.Club's Slack and join the channel.\", 'section': 'General course-related questions', 'question': 'Course - When will the course start?', 'course': 'data-engineering-zoomcamp'}, {'text': 'You can do most of the course without a cloud. Almost everything we use (excluding BigQuery) can be run locally. We won’t be able to provide guidelines for some things, but most of the materials are runnable without GCP.\\nFor everything in the course, there’s a local alternative. You could even do the whole course locally.', 'section': 'General course-related questions', 'question': 'Environment - The GCP and other cloud providers are unavailable in some countries. Is it possible to provide a guide to installing a home lab?', 'course': 'data-engineering-zoomcamp'}, {'text': 'Yes, we will keep all the materials after the course finishes, so you can follow the course at your own pace after it finishes.\\nYou can also continue looking at the homeworks and continue preparing for the next cohort. I guess you can also start working on your final capstone project.', 'section': 'General course-related questions', 'question': 'Course - Can I follow the course after it finishes?', 'course': 'data-engineering-zoomcamp'}, {'text': \"No, you can only get a certificate if you finish the course with a “live” cohort. We don't award certificates for the self-paced mode. The reason is you need to peer-review capstone(s) after submitting a project. You can only peer-review projects at the time the course is running.\", 'section': 'General course-related questions', 'question': 'Certificate - Can I follow the course in a self-paced mode and get a certificate?', 'course': 'data-engineering-zoomcamp'}]\n"
     ]
    }
   ],
   "source": [
    "print(search_results)"
   ]
  },
  {
   "cell_type": "code",
   "execution_count": 28,
   "id": "6d50b008-f2ba-4a2b-b79a-bfd3bd2f595f",
   "metadata": {},
   "outputs": [],
   "source": [
    "def build_prompt(question, search_results):\n",
    "    search_json=json.dumps(search_results),\n",
    "    return prompt_template.format(question=question, context=search_json)"
   ]
  },
  {
   "cell_type": "code",
   "execution_count": 31,
   "id": "5a483b40-d26b-4175-8c18-238b1f399c13",
   "metadata": {},
   "outputs": [
    {
     "data": {
      "text/plain": [
       "'<QUESTION>\\nI just discovered the course. can i njoin now?\\n</QUESTION>\\n\\n<CONTEXT>\\n(\\'[{\"text\": \"It\\\\\\'s up to you which platform and environment you use for the course.\\\\\\\\nGithub codespaces or GCP VM are just possible options, but you can do the entire course from your laptop.\", \"section\": \"General course-related questions\", \"question\": \"Environment - Do we really have to use GitHub codespaces? I already have PostgreSQL & Docker installed.\", \"course\": \"data-engineering-zoomcamp\"}, {\"text\": \"The purpose of this document is to capture frequently asked technical questions\\\\\\\\nThe exact day and hour of the course will be 15th Jan 2024 at 17h00. The course will start with the first  \\\\\\\\u201cOffice Hours\\\\\\'\\\\\\' live.1\\\\\\\\nSubscribe to course public Google Calendar (it works from Desktop only).\\\\\\\\nRegister before the course starts using this link.\\\\\\\\nJoin the course Telegram channel with announcements.\\\\\\\\nDon\\\\\\\\u2019t forget to register in DataTalks.Club\\\\\\'s Slack and join the channel.\", \"section\": \"General course-related questions\", \"question\": \"Course - When will the course start?\", \"course\": \"data-engineering-zoomcamp\"}, {\"text\": \"You can do most of the course without a cloud. Almost everything we use (excluding BigQuery) can be run locally. We won\\\\\\\\u2019t be able to provide guidelines for some things, but most of the materials are runnable without GCP.\\\\\\\\nFor everything in the course, there\\\\\\\\u2019s a local alternative. You could even do the whole course locally.\", \"section\": \"General course-related questions\", \"question\": \"Environment - The GCP and other cloud providers are unavailable in some countries. Is it possible to provide a guide to installing a home lab?\", \"course\": \"data-engineering-zoomcamp\"}, {\"text\": \"Yes, we will keep all the materials after the course finishes, so you can follow the course at your own pace after it finishes.\\\\\\\\nYou can also continue looking at the homeworks and continue preparing for the next cohort. I guess you can also start working on your final capstone project.\", \"section\": \"General course-related questions\", \"question\": \"Course - Can I follow the course after it finishes?\", \"course\": \"data-engineering-zoomcamp\"}, {\"text\": \"No, you can only get a certificate if you finish the course with a \\\\\\\\u201clive\\\\\\\\u201d cohort. We don\\\\\\'t award certificates for the self-paced mode. The reason is you need to peer-review capstone(s) after submitting a project. You can only peer-review projects at the time the course is running.\", \"section\": \"General course-related questions\", \"question\": \"Certificate - Can I follow the course in a self-paced mode and get a certificate?\", \"course\": \"data-engineering-zoomcamp\"}]\\',)\\n</CONTEXT>'"
      ]
     },
     "execution_count": 31,
     "metadata": {},
     "output_type": "execute_result"
    }
   ],
   "source": [
    "build_prompt(question, search_results)"
   ]
  },
  {
   "cell_type": "code",
   "execution_count": 39,
   "id": "2c403ee0-49a3-4b59-b5bb-3ef8a252387e",
   "metadata": {},
   "outputs": [],
   "source": [
    "def rag(question):\n",
    "    search_results = search(question)\n",
    "    user_prompt = build_prompt(question, search_results)\n",
    "    return llm(user_prompt, instructions=instructions)"
   ]
  },
  {
   "cell_type": "code",
   "execution_count": 41,
   "id": "c76d2045-a12e-433d-9753-87510135a16a",
   "metadata": {},
   "outputs": [
    {
     "data": {
      "text/plain": [
       "\"To install Kafka in Python, you can use the following commands depending on the library you want to use:\\n\\n1. For `kafka-python`, you might want to install a specific version due to compatibility issues. You can do this by running:\\n   ```\\n   pip install kafka-python==1.4.6\\n   ```\\n\\n2. Alternatively, using `kafka-python-ng` is suggested:\\n   ```\\n   pip install kafka-python-ng\\n   ```\\n\\n3. For `confluent-kafka`, use:\\n   ```\\n   pip install confluent-kafka\\n   ```\\n   or if you're using Conda:\\n   ```\\n   conda install conda-forge::python-confluent-kafka\\n   ```\\n\\nMake sure to uninstall any existing versions of `kafka-python` before reinstalling if you face compatibility issues:\\n```\\npip uninstall kafka-python\\n```\""
      ]
     },
     "execution_count": 41,
     "metadata": {},
     "output_type": "execute_result"
    }
   ],
   "source": [
    "rag(\"how do I install KAfka in python\")"
   ]
  },
  {
   "cell_type": "code",
   "execution_count": null,
   "id": "691bc3b6-b2d4-434f-bfd6-0907599835bc",
   "metadata": {},
   "outputs": [],
   "source": []
  }
 ],
 "metadata": {
  "kernelspec": {
   "display_name": "Python 3 (ipykernel)",
   "language": "python",
   "name": "python3"
  },
  "language_info": {
   "codemirror_mode": {
    "name": "ipython",
    "version": 3
   },
   "file_extension": ".py",
   "mimetype": "text/x-python",
   "name": "python",
   "nbconvert_exporter": "python",
   "pygments_lexer": "ipython3",
   "version": "3.12.1"
  }
 },
 "nbformat": 4,
 "nbformat_minor": 5
}
