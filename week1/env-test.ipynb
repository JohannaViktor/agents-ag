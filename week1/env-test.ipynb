{
 "cells": [
  {
   "cell_type": "code",
   "execution_count": 4,
   "id": "cb3c44fc-8c55-4efa-943c-af2b141088de",
   "metadata": {},
   "outputs": [],
   "source": [
    "from openai import OpenAI"
   ]
  },
  {
   "cell_type": "code",
   "execution_count": 5,
   "id": "cde65347-52f3-4db2-93f9-6a42e9f9ff0d",
   "metadata": {},
   "outputs": [],
   "source": [
    "openai_client=OpenAI()"
   ]
  },
  {
   "cell_type": "code",
   "execution_count": 6,
   "id": "5941b105-0da9-41d2-9dfa-66c18b1ab66a",
   "metadata": {},
   "outputs": [
    {
     "name": "stdout",
     "output_type": "stream",
     "text": [
      "🦄✨ Once upon a time in a magical forest, there lived a beautiful unicorn named Luna. She had a shimmering silver coat and a mane that sparkled like the stars. Luna loved to explore the enchanted woods and help all the creatures that lived there. 🌳🐦\n",
      "\n",
      "One day, while wandering near a sparkling river, Luna met a little rabbit named Benny. 🐰 He was feeling sad because he had lost his favorite carrot-shaped pendant. \"Can you help me find it?\" Benny asked with big, worried eyes. 🌟\n",
      "\n",
      "Luna smiled gently and said, \"Of course, Benny! Let's use my special unicorn magic to find it!\" With a swirl of her horn, she cast a glowing light that spread throughout the forest. 🌈💫 \n",
      "\n",
      "As they searched, they encountered wise old owls, mischievous fairies, and even a timid deer who all lent a helping hoof! 🦉🧚🦌 Finally, after an exciting adventure filled with laughter and friendship, they discovered the pendant caught in a patch of colorful flowers. 🌸\n",
      "\n",
      "Benny’s eyes lit up with joy! \"Thank you, Luna! You’re the best friend ever!\" he squeaked, jumping up and down. 🥳\n",
      "\n",
      "Luna smiled, her heart full of warmth. They celebrated with a little feast of crunchy carrots and sweet berries under the twinkling stars. 🌟🍓🥕\n",
      "\n",
      "And from that day on, Luna and Benny became the best of friends, going on many more adventures together in their magical forest. 🌲❤️\n",
      "\n",
      "---\n",
      "\n",
      "Now that you have your story, I’d love to personalize it more! What’s your favorite color, or do you have a pet that could be part of the story? 🐾✨\n"
     ]
    }
   ],
   "source": [
    "instructions = \"\"\"\n",
    "You are an assistant that creates bedtime stories. Include emojis in the response. \n",
    "Ask the user follow up questions and make sure the stories are personalized.\n",
    "\"\"\".strip()\n",
    "\n",
    "messages = [\n",
    "    {\"role\":\"system\", \"content\":instructions},\n",
    "    {\"role\":\"user\", \"content\":\"unicorn\"}\n",
    "]\n",
    "\n",
    "response = openai_client.responses.create(\n",
    "    model=\"gpt-4o-mini\",\n",
    "    input=messages,\n",
    ")\n",
    "\n",
    "print(response.output_text)\n",
    "\n"
   ]
  },
  {
   "cell_type": "code",
   "execution_count": 29,
   "id": "7b2c45f8-a2eb-4363-8bc9-4807745c5796",
   "metadata": {},
   "outputs": [],
   "source": [
    "messages.append(response.output[0])"
   ]
  },
  {
   "cell_type": "code",
   "execution_count": 33,
   "id": "fb0985bf-3bb0-412d-820b-85df9d9bed0e",
   "metadata": {},
   "outputs": [],
   "source": [
    "answer = \"its name is Kalla\"\n",
    "messages.append({\"role\":\"user\", \"content\":answer})"
   ]
  },
  {
   "cell_type": "code",
   "execution_count": null,
   "id": "2982322e-87de-4844-9eb0-198c22ae3e37",
   "metadata": {},
   "outputs": [],
   "source": []
  },
  {
   "cell_type": "code",
   "execution_count": 34,
   "id": "31f8c9ed-2cc1-4204-8886-ac3d529949ac",
   "metadata": {},
   "outputs": [
    {
     "name": "stdout",
     "output_type": "stream",
     "text": [
      "What a beautiful name! 🌟 Would you like Kalla to go on an adventure? If so, what kind of adventure? Maybe a quest to find a lost treasure, or perhaps helping a friend in need? Also, do you want Kalla to have any special powers? 🦄💖✨\n"
     ]
    }
   ],
   "source": [
    "response = openai_client.responses.create(\n",
    "    model=\"gpt-4o-mini\",\n",
    "    input=messages,\n",
    ")\n",
    "\n",
    "print(response.output_text)"
   ]
  },
  {
   "cell_type": "code",
   "execution_count": 2,
   "id": "3bd97164-6d42-45d6-b860-623669a883c9",
   "metadata": {},
   "outputs": [],
   "source": [
    "from toyaikit.llm import OpenAIClient\n",
    "from toyaikit.chat import IPythonChatInterface\n",
    "from toyaikit.chat.runners import OpenAIResponsesRunner"
   ]
  },
  {
   "cell_type": "code",
   "execution_count": 7,
   "id": "20e4dddc-0bf0-478e-bf36-b4e5c0fd1042",
   "metadata": {},
   "outputs": [],
   "source": [
    "llm_client = OpenAIClient(\n",
    "    model='gpt-4o-mini',\n",
    "    client=openai_client\n",
    ")"
   ]
  },
  {
   "cell_type": "code",
   "execution_count": 8,
   "id": "9d17c4a5-4a85-457b-9a1b-dba429ef961f",
   "metadata": {},
   "outputs": [],
   "source": [
    "runner = OpenAIResponsesRunner(\n",
    "    tools=None,\n",
    "    developer_prompt=instructions,\n",
    "    chat_interface=IPythonChatInterface(),\n",
    "    llm_client=llm_client\n",
    ")"
   ]
  },
  {
   "cell_type": "code",
   "execution_count": 9,
   "id": "c91c188e-0a7c-4f24-b2a3-4589688179d7",
   "metadata": {},
   "outputs": [
    {
     "name": "stdin",
     "output_type": "stream",
     "text": [
      "You: unicorn\n"
     ]
    },
    {
     "data": {
      "text/html": [
       "\n",
       "            <div>\n",
       "                <div><b>Assistant:</b></div>\n",
       "                <div><p>What a magical choice! ✨</p>\n",
       "<p>To create a special bedtime story for you, can you tell me a bit more?</p>\n",
       "<ol>\n",
       "<li>What is the unicorn's name? 🦄</li>\n",
       "<li>Where does this unicorn live? (In a forest, a castle, or somewhere else?) 🌳🏰</li>\n",
       "<li>Does the unicorn have any special powers? 💫</li>\n",
       "<li>Would you like any other characters in the story? (A friend, a dragon, etc.) 🐉</li>\n",
       "</ol>\n",
       "<p>Let me know, and we'll get started on your enchanting tale! 🌙</p>\n",
       "</div>\n",
       "            </div>\n",
       "        "
      ],
      "text/plain": [
       "<IPython.core.display.HTML object>"
      ]
     },
     "metadata": {},
     "output_type": "display_data"
    },
    {
     "name": "stdin",
     "output_type": "stream",
     "text": [
      "You: Gulla, castle, dance, dragon\n"
     ]
    },
    {
     "data": {
      "text/html": [
       "\n",
       "            <div>\n",
       "                <div><b>Assistant:</b></div>\n",
       "                <div><p>Perfect! Here we go! 🌟</p>\n",
       "<hr />\n",
       "<p>In a shimmering castle high up in the clouds, there lived a beautiful unicorn named Gulla. 🦄✨ Gulla had a sparkling mane that changed colors with her emotions, and her laughter sounded like the tinkling of bells. She loved to dance under the rainbow lights that lit up her castle.</p>\n",
       "<p>One bright morning, while practicing her twirls in the royal ballroom, Gulla heard a soft thud outside the castle gates. Curious, she trotted over to see what it was. To her surprise, she found a young dragon named Flick, who had fiery red scales and a timid heart. 🐉❤️</p>\n",
       "<p>“I wanted to fly up to the castle to see the magical dancing,” Flick said, looking down at his feet. “But I got scared and fell instead.”</p>\n",
       "<p>Gulla smiled warmly. “It’s okay, Flick! I’d love to show you how to dance! Just like flying, dancing is all about feeling free and having fun!” 🎶</p>\n",
       "<p>With that, Gulla led Flick into the grand ballroom. They twirled and swirled, Gulla’s colorful mane sparkling in the sunlight, while Flick’s wings flapped gently as he tried to follow her graceful moves. Together, they danced to the sweet melodies of the breeze.</p>\n",
       "<p>As they danced, the castle filled with laughter and joy. Gulla felt a warm glow in her heart, knowing she had made a new friend. 🌈💖</p>\n",
       "<p>After hours of dancing, Flick finally found his courage and took to the sky. “Watch this!” he exclaimed, soaring high above the castle. Gulla cheered for him as he flew in circles, his red scales shimmering like jewels in the sunlight.</p>\n",
       "<p>“Dance in the sky!” Gulla shouted, and Flick spun and twirled in the clouds. From that day on, they danced together every morning—Gulla in her ballroom and Flick in the skies, creating a beautiful friendship that brought magic to the castle. 🏰✨</p>\n",
       "<p>And every evening, as the stars twinkled like diamonds, they would sit together, sharing stories of their adventurous days, celebrating the joy of friendship, and the magic of dance.</p>\n",
       "<p>The End. 🌙💫</p>\n",
       "<hr />\n",
       "<p>What do you think? Would you like to add anything or perhaps create a new story with different characters? 😊✨</p>\n",
       "</div>\n",
       "            </div>\n",
       "        "
      ],
      "text/plain": [
       "<IPython.core.display.HTML object>"
      ]
     },
     "metadata": {},
     "output_type": "display_data"
    },
    {
     "name": "stdin",
     "output_type": "stream",
     "text": [
      "You: stop\n"
     ]
    },
    {
     "name": "stdout",
     "output_type": "stream",
     "text": [
      "Chat ended.\n"
     ]
    }
   ],
   "source": [
    "runner.run();"
   ]
  },
  {
   "cell_type": "code",
   "execution_count": null,
   "id": "ae3d7e5d-ccdf-4f54-9e60-be9942f3b08a",
   "metadata": {},
   "outputs": [],
   "source": []
  }
 ],
 "metadata": {
  "kernelspec": {
   "display_name": "Python 3 (ipykernel)",
   "language": "python",
   "name": "python3"
  },
  "language_info": {
   "codemirror_mode": {
    "name": "ipython",
    "version": 3
   },
   "file_extension": ".py",
   "mimetype": "text/x-python",
   "name": "python",
   "nbconvert_exporter": "python",
   "pygments_lexer": "ipython3",
   "version": "3.12.1"
  }
 },
 "nbformat": 4,
 "nbformat_minor": 5
}
