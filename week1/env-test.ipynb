{
 "cells": [
  {
   "cell_type": "code",
   "execution_count": 1,
   "id": "cb3c44fc-8c55-4efa-943c-af2b141088de",
   "metadata": {},
   "outputs": [],
   "source": [
    "from openai import OpenAI"
   ]
  },
  {
   "cell_type": "code",
   "execution_count": 2,
   "id": "cde65347-52f3-4db2-93f9-6a42e9f9ff0d",
   "metadata": {},
   "outputs": [],
   "source": [
    "openai_client=OpenAI()"
   ]
  },
  {
   "cell_type": "code",
   "execution_count": 4,
   "id": "5941b105-0da9-41d2-9dfa-66c18b1ab66a",
   "metadata": {},
   "outputs": [
    {
     "name": "stdout",
     "output_type": "stream",
     "text": [
      "### The Unicorn's Wish\n",
      "\n",
      "Once upon a time, in a magical forest filled with glowing flowers and twinkling stars, there lived a unicorn named Luna. She had a shimmering silver coat and a mane that sparkled like the night sky. Luna loved to explore the enchanted woods, making friends with the woodland creatures and playing by the crystal-clear stream.\n",
      "\n",
      "One evening, while wandering under the light of the full moon, Luna stumbled upon a hidden glade. In the center stood an ancient oak tree, its branches stretching wide and low, like welcoming arms. As she approached, she noticed something unusual: a single, glowing pebble nestled at the base of the tree.\n",
      "\n",
      "Curiosity sparkled in her eyes as she gently nudged the pebble with her nose. Suddenly, it began to glow brighter, and a soft, gentle voice emerged from it. “I am the Wish Stone,” it said, “and I can grant you one wish, dear unicorn.”\n",
      "\n",
      "Luna’s heart raced. She thought about all the wonderful things she could wish for: endless fields of flowers, a sparkling river of candy, or perhaps even the ability to fly. But deep down, Luna longed for something different.\n",
      "\n",
      "“In all my adventures,” she said thoughtfully, “I realize that the happiest moments are those shared with others. I wish for everyone in the forest to always have a friend to play with.”\n",
      "\n",
      "With a bright flash, the Wish Stone granted her desire. The air shimmered, and soon, the forest was alive with laughter and joy. Creatures big and small found companions they had never met before, playing games under the stars and sharing stories by the firelight.\n",
      "\n",
      "As Luna watched the happiness unfold, her heart filled with warmth. She had learned that true magic comes from kindness and love.\n",
      "\n",
      "From that day on, the enchanted forest was never lonely again, and every night, Luna would sparkle under the moonlight, reminding everyone that the best wishes are those that bring joy to others.\n",
      "\n",
      "And so, the unicorn and her forest friends lived happily ever after, sharing adventures and friendship, surrounded by the beauty of their magical world.\n",
      "\n",
      "**The End**\n"
     ]
    }
   ],
   "source": [
    "\n",
    "response = openai_client.responses.create(\n",
    "    model=\"gpt-4o-mini\",\n",
    "    input=\"Write a short bedtime story about a unicorn.\"\n",
    ")\n",
    "\n",
    "print(response.output_text)\n",
    "\n"
   ]
  },
  {
   "cell_type": "code",
   "execution_count": null,
   "id": "31f8c9ed-2cc1-4204-8886-ac3d529949ac",
   "metadata": {},
   "outputs": [],
   "source": []
  }
 ],
 "metadata": {
  "kernelspec": {
   "display_name": "Python 3 (ipykernel)",
   "language": "python",
   "name": "python3"
  },
  "language_info": {
   "codemirror_mode": {
    "name": "ipython",
    "version": 3
   },
   "file_extension": ".py",
   "mimetype": "text/x-python",
   "name": "python",
   "nbconvert_exporter": "python",
   "pygments_lexer": "ipython3",
   "version": "3.12.1"
  }
 },
 "nbformat": 4,
 "nbformat_minor": 5
}
