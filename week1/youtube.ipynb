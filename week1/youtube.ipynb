{
 "cells": [
  {
   "cell_type": "code",
   "execution_count": 1,
   "id": "f877b883-e24a-49be-8300-8c290b5393de",
   "metadata": {},
   "outputs": [],
   "source": [
    "from openai import OpenAI\n",
    "\n",
    "openai_client = OpenAI()"
   ]
  },
  {
   "cell_type": "code",
   "execution_count": 2,
   "id": "103bb9b8-8772-4d45-88c0-52daa7f516ab",
   "metadata": {},
   "outputs": [],
   "source": [
    "#uv add youtube-transcript-api"
   ]
  },
  {
   "cell_type": "code",
   "execution_count": 3,
   "id": "5457c42e-f6a2-4b57-8ba7-0c2ba331c707",
   "metadata": {},
   "outputs": [],
   "source": [
    "import pickle"
   ]
  },
  {
   "cell_type": "code",
   "execution_count": 4,
   "id": "3ed47671-a557-4490-a69d-24339aaffd17",
   "metadata": {},
   "outputs": [],
   "source": [
    "#!wget https://github.com/alexeygrigorev/ai-bootcamp-codespace/raw/refs/heads/main/week1/ph1PxZIkz1o.bin"
   ]
  },
  {
   "cell_type": "code",
   "execution_count": 5,
   "id": "a80c553b-c1b5-4f2f-8a21-caec048dbce9",
   "metadata": {},
   "outputs": [],
   "source": [
    "video_id = 'ph1PxZIkz1o'\n",
    "with open(f'{video_id}.bin','rb') as f_in:\n",
    "    transcript = pickle.load(f_in)"
   ]
  },
  {
   "cell_type": "code",
   "execution_count": 6,
   "id": "d23efc4c-3767-4edf-9ec2-d16eacecf4f2",
   "metadata": {},
   "outputs": [
    {
     "data": {
      "text/plain": [
       "[FetchedTranscriptSnippet(text='So hi everyone. Uh today we are going to', start=0.0, duration=5.04),\n",
       " FetchedTranscriptSnippet(text='talk about our upcoming course. The', start=2.96, duration=3.52),\n",
       " FetchedTranscriptSnippet(text='upcoming course is called machine', start=5.04, duration=5.92),\n",
       " FetchedTranscriptSnippet(text='learning zoom camp. And um this is', start=6.48, duration=5.92),\n",
       " FetchedTranscriptSnippet(text='already I put the link in the', start=10.96, duration=3.599),\n",
       " FetchedTranscriptSnippet(text=\"description. So if you're watching um\", start=12.4, duration=4.719),\n",
       " FetchedTranscriptSnippet(text=\"this video in recording or you're\", start=14.559, duration=4.88),\n",
       " FetchedTranscriptSnippet(text='watching it live, you go here in the', start=17.119, duration=4.561),\n",
       " FetchedTranscriptSnippet(text='description after under this video and', start=19.439, duration=5.6),\n",
       " FetchedTranscriptSnippet(text='then you see a link course. uh click on', start=21.68, duration=6.24)]"
      ]
     },
     "execution_count": 6,
     "metadata": {},
     "output_type": "execute_result"
    }
   ],
   "source": [
    "transcript[:10]"
   ]
  },
  {
   "cell_type": "code",
   "execution_count": 7,
   "id": "20bf2138-1440-4b51-b184-a929e39349ed",
   "metadata": {},
   "outputs": [],
   "source": [
    "\n",
    "def format_timestamp(seconds: float) -> str:\n",
    "    total_seconds = int(seconds)\n",
    "    hours, remainder = divmod(total_seconds,3600)\n",
    "    minutes, secs = divmod(remainder, 60)\n",
    "\n",
    "    if hours > 0:\n",
    "        return f\"{hours}: {minutes:02}:{secs:02}\"\n",
    "    else: \n",
    "        return f\"{minutes}:{secs:02}\"\n",
    "\n",
    "def make_subtitles(transcript):\n",
    "    lines=[]\n",
    "\n",
    "    for entry in transcript:\n",
    "        ts = format_timestamp(entry.start)\n",
    "        text = entry.text.replace('\\n',' ')\n",
    "        lines.append(ts + ' ' + text)\n",
    "\n",
    "    return '\\n'.join(lines)\n",
    "\n",
    "subtitles = make_subtitles(transcript)\n",
    "         "
   ]
  },
  {
   "cell_type": "code",
   "execution_count": 8,
   "id": "3b1fc70d-de17-43ee-96c0-6f39d3e66ec7",
   "metadata": {},
   "outputs": [
    {
     "name": "stdout",
     "output_type": "stream",
     "text": [
      "0:00 So hi everyone. Uh today we are going to\n",
      "0:02 talk about our upcoming course. The\n",
      "0:05 upcoming course is called machine\n",
      "0:06 learning zoom camp. And um this is\n",
      "0:10 already I put the link in the\n",
      "0:12 description. So if you're watching um\n",
      "0:14 this video in recording or you're\n",
      "0:17 watching it live, you go here in the\n",
      "0:19 description after under this video and\n",
      "0:21 then you see a link course. uh click on\n",
      "0:25 that link and this bring you will bring\n",
      "0:27 you to\n",
      "0:29 this website this GitHub\n"
     ]
    }
   ],
   "source": [
    "print(subtitles[0:500])"
   ]
  },
  {
   "cell_type": "code",
   "execution_count": 9,
   "id": "2de45db5-e406-406e-ad3b-6fbb36a50075",
   "metadata": {},
   "outputs": [],
   "source": [
    "instructions = \"\"\"\n",
    "Summarize the transcript and describe the main purpose of the video\n",
    "and the main ideas. \n",
    "\n",
    "Also output chapters with time. Use usual sentence case, not Title Case for the chapter.\n",
    "\n",
    "Output format: \n",
    "\n",
    "<OUTPUT>\n",
    "Summary\n",
    "\n",
    "timestamp chapter \n",
    "timestamp chapter\n",
    "...\n",
    "timestamp chapter\n",
    "</OUTPUT>\n",
    "don'T include <OUTPUT> in the output\n",
    "\"\"\""
   ]
  },
  {
   "cell_type": "code",
   "execution_count": 10,
   "id": "e94d462f-4697-4e92-ae68-d86ccc9441ee",
   "metadata": {},
   "outputs": [],
   "source": [
    "def llm_structured(instructions, user_prompt, output_type, model=\"gpt-4o-mini\"):\n",
    "    messages=[\n",
    "        {\"role\":\"system\",\"content\":instructions},\n",
    "        {\"role\":\"user\", \"content\": user_prompt}\n",
    "    ]\n",
    "    response=openai_client.responses.parse(model=model, input=messages, text_format=output_type)\n",
    "    return response.output_parsed"
   ]
  },
  {
   "cell_type": "code",
   "execution_count": null,
   "id": "6e150168-7e49-48fa-a734-eeff9e7b8c11",
   "metadata": {},
   "outputs": [],
   "source": []
  },
  {
   "cell_type": "code",
   "execution_count": 11,
   "id": "29f01a5f-5fa1-4e2b-9351-07bf3d7be788",
   "metadata": {},
   "outputs": [],
   "source": [
    "from pydantic import BaseModel"
   ]
  },
  {
   "cell_type": "code",
   "execution_count": 12,
   "id": "6e89d91c-8f7f-43a8-8273-5203a5230e53",
   "metadata": {},
   "outputs": [],
   "source": [
    "class Chapter(BaseModel):\n",
    "    timestamp:str\n",
    "    title:str\n",
    "\n",
    "class YTSummaryResponse(BaseModel):\n",
    "    summary:str\n",
    "    chapters: list[Chapter]"
   ]
  },
  {
   "cell_type": "code",
   "execution_count": 13,
   "id": "5f07d7ec-95ca-44e9-beae-b3dcc85e5b8e",
   "metadata": {},
   "outputs": [],
   "source": [
    "#print(answer)"
   ]
  },
  {
   "cell_type": "code",
   "execution_count": null,
   "id": "eaec1374-35b1-45e0-9238-dbd0266d62b4",
   "metadata": {},
   "outputs": [],
   "source": []
  },
  {
   "cell_type": "code",
   "execution_count": 14,
   "id": "972ccce8-1bfd-4687-a5e1-b39989e5fa6d",
   "metadata": {},
   "outputs": [],
   "source": [
    "summary = llm_structured(\n",
    "    instructions=instructions,\n",
    "    user_prompt=subtitles,\n",
    "    output_type=YTSummaryResponse\n",
    ")"
   ]
  },
  {
   "cell_type": "code",
   "execution_count": 15,
   "id": "ed6c4c71-e953-4d38-b699-d022933db75e",
   "metadata": {},
   "outputs": [
    {
     "name": "stdout",
     "output_type": "stream",
     "text": [
      "summary=\"In this video, the instructor outlines the details of the upcoming 'Machine Learning Zoom Camp' course, set to begin on September 15. The discussion covers course structure, content updates, prerequisites, and common queries related to placement and learning outcomes. Notably, the course focuses on Machine Learning engineering with practical applications, unlike traditional data science courses. Questions from participants highlight topics such as job placements, programming prerequisites, and course materials. The video aims to inform and answer queries for prospective students, enhancing their understanding prior to enrollment.\" chapters=[Chapter(timestamp='0:00', title='Introduction to the course'), Chapter(timestamp='1:14', title='Course content and updates'), Chapter(timestamp='2:50', title='Job placement opportunities'), Chapter(timestamp='5:06', title='Computer vision and deep learning modules'), Chapter(timestamp='6:08', title='Prerequisites for the course'), Chapter(timestamp='10:03', title='Using command line and programming languages'), Chapter(timestamp='11:44', title='Learning PyTorch and TensorFlow'), Chapter(timestamp='12:42', title='Target audience for the course'), Chapter(timestamp='13:36', title='Recommended resources'), Chapter(timestamp='15:02', title='Mathematical prerequisites'), Chapter(timestamp='18:12', title='Computer requirements for the course'), Chapter(timestamp='19:35', title='Using AI tools for learning'), Chapter(timestamp='20:33', title='MLOps course offerings'), Chapter(timestamp='21:38', title='Job suitability for each course'), Chapter(timestamp='22:55', title='New material vs. old videos'), Chapter(timestamp='24:42', title='Assignment expectations'), Chapter(timestamp='26:06', title='Certificates and portfolio projects'), Chapter(timestamp='29:24', title='Live session structure and deadlines'), Chapter(timestamp='32:12', title='Project requirements for certificates'), Chapter(timestamp='34:03', title='The importance of pair reviews'), Chapter(timestamp='36:04', title='Next steps after the course'), Chapter(timestamp='37:46', title='Access to recorded videos'), Chapter(timestamp='38:30', title='Homework importance'), Chapter(timestamp='39:42', title='Closing remarks and course enrollment details')]\n"
     ]
    }
   ],
   "source": [
    "print(summary)"
   ]
  },
  {
   "cell_type": "code",
   "execution_count": 16,
   "id": "6d1d2cdc-ea70-4b4a-8371-40d402101946",
   "metadata": {},
   "outputs": [
    {
     "name": "stdout",
     "output_type": "stream",
     "text": [
      "0:00 Introduction to the course\n",
      "1:14 Course content and updates\n",
      "2:50 Job placement opportunities\n",
      "5:06 Computer vision and deep learning modules\n",
      "6:08 Prerequisites for the course\n",
      "10:03 Using command line and programming languages\n",
      "11:44 Learning PyTorch and TensorFlow\n",
      "12:42 Target audience for the course\n",
      "13:36 Recommended resources\n",
      "15:02 Mathematical prerequisites\n",
      "18:12 Computer requirements for the course\n",
      "19:35 Using AI tools for learning\n",
      "20:33 MLOps course offerings\n",
      "21:38 Job suitability for each course\n",
      "22:55 New material vs. old videos\n",
      "24:42 Assignment expectations\n",
      "26:06 Certificates and portfolio projects\n",
      "29:24 Live session structure and deadlines\n",
      "32:12 Project requirements for certificates\n",
      "34:03 The importance of pair reviews\n",
      "36:04 Next steps after the course\n",
      "37:46 Access to recorded videos\n",
      "38:30 Homework importance\n",
      "39:42 Closing remarks and course enrollment details\n"
     ]
    }
   ],
   "source": [
    "for c in summary.chapters:\n",
    "    print(c.timestamp,c.title)"
   ]
  },
  {
   "cell_type": "code",
   "execution_count": 17,
   "id": "20a4d299-b9db-4a13-867d-37414a47a4c1",
   "metadata": {},
   "outputs": [],
   "source": [
    "def sliding_window(seq,size,step):\n",
    "    if size <=0 or step<=0:\n",
    "        raise ValueError(\"Size and Step must be positive\")\n",
    "    n=len(seq)\n",
    "    result=[]\n",
    "    for i in range(0,n,step):\n",
    "        batch = seq[i:i+size]\n",
    "        result.append(batch)\n",
    "        if i+size>=n:\n",
    "            break\n",
    "    return result"
   ]
  },
  {
   "cell_type": "code",
   "execution_count": 18,
   "id": "1145dbac-5f50-4f3f-9117-85151b3adeaa",
   "metadata": {},
   "outputs": [
    {
     "data": {
      "text/plain": [
       "[[0, 1, 2, 3, 4],\n",
       " [2, 3, 4, 5, 6],\n",
       " [4, 5, 6, 7, 8],\n",
       " [6, 7, 8, 9, 10],\n",
       " [8, 9, 10, 11, 12],\n",
       " [10, 11, 12, 13, 14],\n",
       " [12, 13, 14, 15, 16],\n",
       " [14, 15, 16, 17]]"
      ]
     },
     "execution_count": 18,
     "metadata": {},
     "output_type": "execute_result"
    }
   ],
   "source": [
    "sliding_window(list(range(18)),5,2)"
   ]
  },
  {
   "cell_type": "code",
   "execution_count": 19,
   "id": "a6fd74b5-95e7-44d7-8825-2015f48f2678",
   "metadata": {},
   "outputs": [],
   "source": [
    "def join_lines(transcript) -> str:\n",
    "    \"\"\"Join transcript entries into continuous text.\"\"\"\n",
    "    lines = []\n",
    "\n",
    "    for entry in transcript:\n",
    "        text = entry.text.replace('\\n', ' ')\n",
    "        lines.append(text)\n",
    "\n",
    "    return ' '.join(lines)\n",
    "\n",
    "def format_chunk(chunk):\n",
    "    \"\"\"Format a chunk with start/end timestamps and text.\"\"\"\n",
    "    time_start = format_timestamp(chunk[0].start)\n",
    "    time_end = format_timestamp(chunk[-1].start)\n",
    "    text = join_lines(chunk)\n",
    "\n",
    "    return {\n",
    "        'start': time_start,\n",
    "        'end': time_end,\n",
    "        'text': text\n",
    "    }"
   ]
  },
  {
   "cell_type": "code",
   "execution_count": 20,
   "id": "0f28bd73-57fe-4026-9b25-30ff82d522c0",
   "metadata": {},
   "outputs": [
    {
     "name": "stdout",
     "output_type": "stream",
     "text": [
      "Created 139 chunks\n"
     ]
    }
   ],
   "source": [
    "chunks = []\n",
    "\n",
    "# Experiment with different values: try (30, 10) for more granular chunks\n",
    "for chunk in sliding_window(transcript, 30, 10):\n",
    "    processed = format_chunk(chunk)\n",
    "    chunks.append(processed)\n",
    "\n",
    "print(f\"Created {len(chunks)} chunks\")"
   ]
  },
  {
   "cell_type": "code",
   "execution_count": 21,
   "id": "e5e1e13f-3cd1-4600-929d-4790438f4f00",
   "metadata": {},
   "outputs": [
    {
     "data": {
      "text/plain": [
       "<minsearch.minsearch.Index at 0x7424a00ba060>"
      ]
     },
     "execution_count": 21,
     "metadata": {},
     "output_type": "execute_result"
    }
   ],
   "source": [
    "from minsearch import Index\n",
    "index=Index(text_fields=[\"text\"])\n",
    "index.fit(chunks)"
   ]
  },
  {
   "cell_type": "code",
   "execution_count": 22,
   "id": "80375e84-46ac-4bc7-b12f-ca8be9b1a30b",
   "metadata": {},
   "outputs": [],
   "source": [
    "results=index.search(\"Can I find a job after the course?\", num_results=5)"
   ]
  },
  {
   "cell_type": "code",
   "execution_count": 23,
   "id": "668ad90e-5e41-4fbb-a7a7-d6044af67244",
   "metadata": {},
   "outputs": [
    {
     "data": {
      "text/plain": [
       "[{'start': '53:30',\n",
       "  'end': '54:42',\n",
       "  'text': \"path to follow after the completing the course? Uh to step into advanced stuff, find a job. That's the best way. Um cuz you can do courses forever, but I think you need to work on projects. This is where the real experience comes from. So you need to find something that is a job. Maybe at the beginning could be difficult but then find a volunteering job. I don't know there are so many places where you can volunteer. So put your skills into practice and then by doing this you will again do this project based learning that I um talked about and then it will force you to learn new things in order to solve a problem you have and then you build a portfolio of things and then it will make you even more job ready. Um yeah so I wouldn't recommend taking another course of course you can do a melops course that we have you can find a lot of courses like we have this page yeah wait no not this one 23 free online courses on machine learning so there are a lot of courses not just our course there are so many other courses but um I wouldn't recommend to spend too much time on learning things I would just say I mean\"},\n",
       " {'start': '53:04',\n",
       "  'end': '54:16',\n",
       "  'text': \"but you don't do peer reviewing you fail the project and if you fail a project you fail the course. Right? So this very important to do peer reviews. Uh will the course make one job ready? Yes. If you put effort in the the the course and if you make a good project, if you also follow our recommendations to learn in public, this will definitely make you job ready. Uh what's the next path to follow after the completing the course? Uh to step into advanced stuff, find a job. That's the best way. Um cuz you can do courses forever, but I think you need to work on projects. This is where the real experience comes from. So you need to find something that is a job. Maybe at the beginning could be difficult but then find a volunteering job. I don't know there are so many places where you can volunteer. So put your skills into practice and then by doing this you will again do this project based learning that I um talked about and then it will force you to learn new things in order to solve a problem you have and then you build a portfolio of things and then it will make you even more job ready. Um yeah so I wouldn't recommend taking another\"},\n",
       " {'start': '52:34',\n",
       "  'end': '53:52',\n",
       "  'text': \"project I submitted was a fake course project. So there was nothing that's why I didn't get any points. Uh the reason I got uh nine uh is uh cuz I evaluated other peers. So that's why um like for each evalation I get three points. But this is how it's done. So the we evaluate projects by doing peer review and peer review is mandatory to complete the project. So if you submit a project but you don't do peer reviewing you fail the project and if you fail a project you fail the course. Right? So this very important to do peer reviews. Uh will the course make one job ready? Yes. If you put effort in the the the course and if you make a good project, if you also follow our recommendations to learn in public, this will definitely make you job ready. Uh what's the next path to follow after the completing the course? Uh to step into advanced stuff, find a job. That's the best way. Um cuz you can do courses forever, but I think you need to work on projects. This is where the real experience comes from. So you need to find something that is a job. Maybe at the beginning could be difficult but then find a volunteering job. I don't know there are so many\"},\n",
       " {'start': '2:41',\n",
       "  'end': '3:49',\n",
       "  'text': \"this. Anyways um you have some questions and these questions you use slido for asking these questions and let's get started. Um Alexi question is there a chance of job placement after the program? How deep are we going into computer vision and rock? Okay, so there are three questions actually here. Uh chance of job placement. So we do not provide you job placement. So we are not recruiters. We just teach this uh and we are not a boot camp where you pay money. Right? So this is a free boot camp and our resources are limited. So we cannot really uh do this for you. That said, many of many course participants who took this course in the past successfully found the job. So this is this is going to be the fifth time we are hosting this. So yeah, many many people have graduated from this course and many people found the jobs. So yes, there is a high chance to find a job placement after the program because the teach we the skills we teach here the skills we cover here they are the most important skills for a machine learning engineer. So first we focus on the machine learning part where\"},\n",
       " {'start': '3:03',\n",
       "  'end': '4:14',\n",
       "  'text': \"job placement. So we are not recruiters. We just teach this uh and we are not a boot camp where you pay money. Right? So this is a free boot camp and our resources are limited. So we cannot really uh do this for you. That said, many of many course participants who took this course in the past successfully found the job. So this is this is going to be the fifth time we are hosting this. So yeah, many many people have graduated from this course and many people found the jobs. So yes, there is a high chance to find a job placement after the program because the teach we the skills we teach here the skills we cover here they are the most important skills for a machine learning engineer. So first we focus on the machine learning part where we cover scikitlearn um like simplest model models and then we go deeper on the deployment side. So this is the area where many data scientists um don't know or not they know but like maybe this is their weak areas. So this is we we're going a little deeper in this side. That's why it's more like an engineering program, ML engineering program. And with these\"}]"
      ]
     },
     "execution_count": 23,
     "metadata": {},
     "output_type": "execute_result"
    }
   ],
   "source": [
    "results"
   ]
  },
  {
   "cell_type": "code",
   "execution_count": 34,
   "id": "e0668403-0c63-43e8-b67c-c39b38bff583",
   "metadata": {},
   "outputs": [],
   "source": [
    "import json\n",
    "\n",
    "def search(query):\n",
    "    return index.search(query=query, num_results=15)\n",
    "\n",
    "instructions = \"\"\"\n",
    "Answer the QUESTION based on the CONTEXT from the subtitles of a YouTube video.\n",
    "\n",
    "Use only the facts from the CONTEXT when answering the QUESTION.\n",
    "\n",
    "When answering the question, \n",
    "provide the citation in form of the video URL pointing at the timestamp where\n",
    "this is discussed. If the question is discussed in multiple documents,\n",
    "cite all of them.\n",
    "\n",
    "Don't use markdown or any formatting in the output.\n",
    "\"\"\".strip()\n",
    "\n",
    "prompt_template = \"\"\"\n",
    "<VIDEO_ID>\n",
    "{video_id}\n",
    "</VIDEO_ID>\n",
    "\n",
    "<QUESTION>\n",
    "{question}\n",
    "</QUESTION>\n",
    "\n",
    "<CONTEXT>\n",
    "{context}\n",
    "</CONTEXT>\n",
    "\"\"\".strip()\n",
    "\n",
    "def prompt_builder(question, search_results):\n",
    "    context=json.dumps(search_results)\n",
    "    #query+search_results\n",
    "    return prompt_template.format(question=question, context=context, video_id=video_id).strip()\n",
    "\n",
    "def llm(instructions, user_prompt, model=\"gpt-4o-mini\"):\n",
    "    messages=[\n",
    "        {\"role\":\"system\",\"content\":instructions},\n",
    "        {\"role\":\"user\", \"content\": user_prompt}\n",
    "    ]\n",
    "    response=openai_client.responses.create(model=model, input=messages)\n",
    "    return response.output_text\n",
    "\n",
    "def rag(query):\n",
    "    #concat instructions und prompt mit system und user und content\n",
    "    #send to llm (response.create with openai_client)\n",
    "    search_results=search(query)\n",
    "    prompt=prompt_builder(query, search_results)\n",
    "    answer = llm(instructions, prompt)\n",
    "    return answer"
   ]
  },
  {
   "cell_type": "code",
   "execution_count": 31,
   "id": "14b50eba-3739-4cb8-8ba0-d6064fd27de7",
   "metadata": {},
   "outputs": [],
   "source": []
  },
  {
   "cell_type": "code",
   "execution_count": 36,
   "id": "be9515a9-18b8-4cad-9520-735eac7da810",
   "metadata": {},
   "outputs": [
    {
     "data": {
      "text/plain": [
       "'The main focus of the course is on machine learning engineering, where it covers both the foundational machine learning concepts (using libraries like Scikit-learn) and delves deeper into deployment aspects which many data scientists might find challenging. There is an emphasis on engineering skills related to machine learning, including containerization and deployment of models, making it more suitable for those aspiring to become machine learning engineers. The course is a blend of theoretical knowledge and practical deployment skills necessary for real-world applications. \\n\\nFor more details, see the discussion at timestamp 3:03 - 4:14 and 34:21 - 35:38 in the video: https://www.youtube.com/watch?v=ph1PxZIkz1o.'"
      ]
     },
     "execution_count": 36,
     "metadata": {},
     "output_type": "execute_result"
    }
   ],
   "source": [
    "rag(\"what is the main focus of the course?\")"
   ]
  },
  {
   "cell_type": "code",
   "execution_count": null,
   "id": "fe358252-38c3-480f-96c1-b8329d4fdf95",
   "metadata": {},
   "outputs": [],
   "source": []
  },
  {
   "cell_type": "code",
   "execution_count": null,
   "id": "8427cbae-8d17-451b-a6b4-ca6776825ce7",
   "metadata": {},
   "outputs": [],
   "source": []
  }
 ],
 "metadata": {
  "kernelspec": {
   "display_name": "Python 3 (ipykernel)",
   "language": "python",
   "name": "python3"
  },
  "language_info": {
   "codemirror_mode": {
    "name": "ipython",
    "version": 3
   },
   "file_extension": ".py",
   "mimetype": "text/x-python",
   "name": "python",
   "nbconvert_exporter": "python",
   "pygments_lexer": "ipython3",
   "version": "3.12.1"
  }
 },
 "nbformat": 4,
 "nbformat_minor": 5
}
